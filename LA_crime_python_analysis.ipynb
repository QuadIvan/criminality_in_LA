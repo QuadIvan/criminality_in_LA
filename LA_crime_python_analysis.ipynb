{
  "nbformat": 4,
  "nbformat_minor": 0,
  "metadata": {
    "colab": {
      "provenance": []
    },
    "kernelspec": {
      "name": "python3",
      "display_name": "Python 3"
    },
    "language_info": {
      "name": "python"
    }
  },
  "cells": [
    {
      "cell_type": "markdown",
      "source": [
        "#  Python Notes – Criminality in LA (2023 vs 2024)\n",
        "\n",
        "This file documents the Python stage of the project, which includes data loading, cleaning, exploratory data analysis (EDA), and visualizations. The goal is to uncover patterns in criminal activity across time and geography to support the final Power BI dashboard."
      ],
      "metadata": {
        "id": "CqtvXBd9Uek6"
      }
    },
    {
      "cell_type": "markdown",
      "source": [
        " ## Data Loading\n",
        "Importing the required libraries, reading the CSV files into Pandas DataFrames, and inspecting the initial structure of the data.\n",
        "\n"
      ],
      "metadata": {
        "id": "aLKBt_hzUoW8"
      }
    },
    {
      "cell_type": "code",
      "source": [
        "import pandas as pd\n",
        "import numpy as np\n",
        "import matplotlib.pyplot as plt\n",
        "import seaborn as sns\n",
        "\n",
        "crimes = pd.read_csv('/content/LA_crime_2023_2024.csv')\n",
        "\n",
        "print(f'The dataset size is {crimes.size}')\n",
        "print(f'The dataset columns are: {crimes.columns}')\n",
        "print(f'The dataset shape is: {crimes.shape}')\n",
        "print(crimes.info())\n",
        "\n",
        "total_rows = 359912"
      ],
      "metadata": {
        "colab": {
          "base_uri": "https://localhost:8080/"
        },
        "id": "lb8EqAh0oHcA",
        "outputId": "b1bc82a7-de13-47cd-caf5-f3509eaa2658"
      },
      "execution_count": null,
      "outputs": [
        {
          "output_type": "stream",
          "name": "stdout",
          "text": [
            "The dataset size is 8997800\n",
            "The dataset columns are: Index(['file_id', 'date_reported', 'date_occurred', 'time_occurred',\n",
            "       'area_code', 'area_name', 'crime_committed_code', 'crime_committed',\n",
            "       'victim_age', 'victim_sex', 'victim_descent', 'weapon_used_code',\n",
            "       'weapon_desc', 'case_status', 'status_desc', 'crime_code_1',\n",
            "       'crime_code_2', 'crime_code_3', 'crime_code_4', 'crime_location',\n",
            "       'location_type_code', 'location_type_desc', 'cross_street', 'latitude',\n",
            "       'longitude'],\n",
            "      dtype='object')\n",
            "The dataset shape is: (359912, 25)\n",
            "<class 'pandas.core.frame.DataFrame'>\n",
            "RangeIndex: 359912 entries, 0 to 359911\n",
            "Data columns (total 25 columns):\n",
            " #   Column                Non-Null Count   Dtype  \n",
            "---  ------                --------------   -----  \n",
            " 0   file_id               359912 non-null  int64  \n",
            " 1   date_reported         359912 non-null  object \n",
            " 2   date_occurred         359912 non-null  object \n",
            " 3   time_occurred         359912 non-null  int64  \n",
            " 4   area_code             359912 non-null  int64  \n",
            " 5   area_name             359912 non-null  object \n",
            " 6   crime_committed_code  359912 non-null  int64  \n",
            " 7   crime_committed       359912 non-null  object \n",
            " 8   victim_age            359912 non-null  int64  \n",
            " 9   victim_sex            299219 non-null  object \n",
            " 10  victim_descent        299211 non-null  object \n",
            " 11  weapon_used_code      102487 non-null  float64\n",
            " 12  weapon_desc           102487 non-null  object \n",
            " 13  case_status           359911 non-null  object \n",
            " 14  status_desc           359912 non-null  object \n",
            " 15  crime_code_1          359908 non-null  float64\n",
            " 16  crime_code_2          20564 non-null   float64\n",
            " 17  crime_code_3          668 non-null     float64\n",
            " 18  crime_code_4          16 non-null      float64\n",
            " 19  crime_location        359912 non-null  object \n",
            " 20  location_type_code    359904 non-null  float64\n",
            " 21  location_type_desc    359633 non-null  object \n",
            " 22  cross_street          48572 non-null   object \n",
            " 23  latitude              359912 non-null  float64\n",
            " 24  longitude             359912 non-null  float64\n",
            "dtypes: float64(8), int64(5), object(12)\n",
            "memory usage: 68.6+ MB\n",
            "None\n"
          ]
        }
      ]
    },
    {
      "cell_type": "markdown",
      "source": [],
      "metadata": {
        "id": "tgLJXQ41V19D"
      }
    },
    {
      "cell_type": "markdown",
      "source": [
        "- Noticed that the columns 'date_reported' and 'date_occurred' were loaded as objects instead of a date time.\n",
        "\n",
        "- Later in the analysis, I realized that the issue was due to forgetting to include the parse_dates argument in the pd.read_csv() method.\n",
        "\n",
        "- I decided to keep the code as it is and add this note instead of changing it, as a reminder for the future."
      ],
      "metadata": {
        "id": "-IeGwGSaXoZC"
      }
    },
    {
      "cell_type": "code",
      "source": [
        "# Loop to find the number of missing values in each column\n",
        "for col in crimes.columns:\n",
        "    null_count = crimes[col].isna().sum()\n",
        "    print(f'The column {col} has {null_count} null values')"
      ],
      "metadata": {
        "id": "ZLoZlP01aOIx",
        "colab": {
          "base_uri": "https://localhost:8080/"
        },
        "outputId": "8149eb0d-219b-4c5c-e80c-2973b0afc94c"
      },
      "execution_count": null,
      "outputs": [
        {
          "output_type": "stream",
          "name": "stdout",
          "text": [
            "The column file_id has 0 null values\n",
            "The column date_reported has 0 null values\n",
            "The column date_occurred has 0 null values\n",
            "The column time_occurred has 0 null values\n",
            "The column area_code has 0 null values\n",
            "The column area_name has 0 null values\n",
            "The column crime_committed_code has 0 null values\n",
            "The column crime_committed has 0 null values\n",
            "The column victim_age has 0 null values\n",
            "The column victim_sex has 60693 null values\n",
            "The column victim_descent has 60701 null values\n",
            "The column weapon_used_code has 257425 null values\n",
            "The column weapon_desc has 257425 null values\n",
            "The column case_status has 1 null values\n",
            "The column status_desc has 0 null values\n",
            "The column crime_code_1 has 4 null values\n",
            "The column crime_code_2 has 339348 null values\n",
            "The column crime_code_3 has 359244 null values\n",
            "The column crime_code_4 has 359896 null values\n",
            "The column crime_location has 0 null values\n",
            "The column location_type_code has 8 null values\n",
            "The column location_type_desc has 279 null values\n",
            "The column cross_street has 311340 null values\n",
            "The column latitude has 0 null values\n",
            "The column longitude has 0 null values\n"
          ]
        }
      ]
    },
    {
      "cell_type": "code",
      "source": [
        "# Get only the columns with missing data\n",
        "missing = crimes.isna().sum().reset_index()\n",
        "\n",
        "missing.columns = ['column', 'missing_values']\n",
        "\n",
        "missing = missing[missing['missing_values'] > 0]\\\n",
        "                  .sort_values(by='missing_values', ascending=False)\n",
        "\n",
        "print(missing)\n"
      ],
      "metadata": {
        "id": "rmPdZwZdaWB5",
        "colab": {
          "base_uri": "https://localhost:8080/"
        },
        "outputId": "d52adbfc-5bf7-43c0-f215-13975413d043"
      },
      "execution_count": null,
      "outputs": [
        {
          "output_type": "stream",
          "name": "stdout",
          "text": [
            "                column  missing_values\n",
            "18        crime_code_4          359896\n",
            "17        crime_code_3          359244\n",
            "16        crime_code_2          339348\n",
            "22        cross_street          311340\n",
            "11    weapon_used_code          257425\n",
            "12         weapon_desc          257425\n",
            "10      victim_descent           60701\n",
            "9           victim_sex           60693\n",
            "21  location_type_desc             279\n",
            "20  location_type_code               8\n",
            "15        crime_code_1               4\n",
            "13         case_status               1\n"
          ]
        }
      ]
    },
    {
      "cell_type": "markdown",
      "source": [
        "##  Missing Values Strategy\n",
        "\n",
        "After identifying missing values in several columns, I analyzed the context of each one and developed the following cleaning strategy:\n",
        "\n",
        "| Column Name             | Missing Count | Action to Take                                 | Justification |\n",
        "|-------------------------|----------------|------------------------------------------------|---------------|\n",
        "| `crime_code_1`          | 4              | Check if the row has all `crime_code_1` to `4` null; if so, remove it | A valid crime record should have at least one crime code. |\n",
        "| `crime_code_2`, `3`, `4`| Many           | Keep as is                                     | Not all crimes have multiple associated codes. |\n",
        "| `weapon_used_code`      | 257,425        | Fill with `0` (assuming it means \"no weapon used\") | Not all crimes involve weapons; check if `0` exists in unique values. |\n",
        "| `weapon_desc`           | 257,425        | Fill with `\"No weapon used\"`                   | Matches the logic from `weapon_used_code`. |\n",
        "| `victim_descent`        | 60,701         | Fill with `'X'`                                 | `'X'` stands for \"Unknown\", already present in the data. |\n",
        "| `victim_sex`            | 60,693         | Fill with `'X'`                                 | `'X'` is used for unknown sex values. |\n",
        "| `location_type_desc`    | 279            | Fill based on corresponding `location_type_code` | Can be imputed via 1:1 mapping if consistent. |\n",
        "| `location_type_code`    | 8              | Drop rows (optional)                            | Very few nulls; dropping them won’t affect the dataset significantly. |\n",
        "| `cross_street`          | 311,340        | Keep as null                                    | Cross streets are often not provided and not critical for this analysis. |\n",
        "| `case_status`           | 1              | Fill using value from `status_desc`             | Values are likely aligned or equivalent. |\n",
        "\n",
        " This strategy balances data integrity with minimal distortion and will prepare the dataset for reliable analysis in both Python and Power BI.\n"
      ],
      "metadata": {
        "id": "vWhovuh7bREO"
      }
    },
    {
      "cell_type": "code",
      "source": [
        "# Verify whether the null values in 'crime_code_1' occur alongside valid values in any of the other crime code columns\n",
        "null_code_1 = crimes[crimes['crime_code_1'].isna()]\n",
        "print(null_code_1[\n",
        "                  ['crime_code_1',\n",
        "                    'crime_code_2',\n",
        "                    'crime_code_3',\n",
        "                    'crime_code_4'\n",
        "]])"
      ],
      "metadata": {
        "id": "jy_G6-p4anZ1",
        "colab": {
          "base_uri": "https://localhost:8080/"
        },
        "outputId": "223ca13d-d485-4f0b-b838-fa14a2c1cdc2"
      },
      "execution_count": null,
      "outputs": [
        {
          "output_type": "stream",
          "name": "stdout",
          "text": [
            "        crime_code_1  crime_code_2  crime_code_3  crime_code_4\n",
            "48073            NaN         442.0           NaN           NaN\n",
            "58999            NaN         330.0           NaN           NaN\n",
            "154769           NaN         330.0           NaN           NaN\n",
            "227343           NaN         623.0           NaN           NaN\n"
          ]
        }
      ]
    },
    {
      "cell_type": "markdown",
      "source": [
        "###  Null Check: Crime Code Columns\n",
        "\n",
        "To ensure that each crime record contains at least one associated crime code, I evaluated the null values across the columns `crime_code_1`, `crime_code_2`, `crime_code_3`, and `crime_code_4`."
      ],
      "metadata": {
        "id": "qAeKFqzEbPbD"
      }
    },
    {
      "cell_type": "code",
      "source": [
        "# Check whether any rows have null values in all four crime_code columns simultaneously\n",
        "null_crime_codes = crimes[crimes[['crime_code_1', 'crime_code_2', 'crime_code_3', 'crime_code_4']].isna().all(axis=1)]\n",
        "print(null_crime_codes)\n"
      ],
      "metadata": {
        "id": "V8hWR4c5bMH7",
        "colab": {
          "base_uri": "https://localhost:8080/"
        },
        "outputId": "c2eb0c10-a833-4dd4-a8e5-4aed9a7238c0"
      },
      "execution_count": null,
      "outputs": [
        {
          "output_type": "stream",
          "name": "stdout",
          "text": [
            "Empty DataFrame\n",
            "Columns: [file_id, date_reported, date_occurred, time_occurred, area_code, area_name, crime_committed_code, crime_committed, victim_age, victim_sex, victim_descent, weapon_used_code, weapon_desc, case_status, status_desc, crime_code_1, crime_code_2, crime_code_3, crime_code_4, crime_location, location_type_code, location_type_desc, cross_street, latitude, longitude]\n",
            "Index: []\n",
            "\n",
            "[0 rows x 25 columns]\n"
          ]
        }
      ]
    },
    {
      "cell_type": "markdown",
      "source": [
        "\n",
        " ### Null Values in weapon_used_code and weapon_desc\n",
        "To assess whether missing values in weapon_used_code and weapon_desc correspond to \"no weapon used\", I checked all combinations of null presence between these two columns.\n",
        "\n",
        "\n",
        "### Check if only one of the two columns is null (XOR logic)\n",
        "\n",
        "\n"
      ],
      "metadata": {
        "id": "vdbDIJk0c98a"
      }
    },
    {
      "cell_type": "code",
      "source": [
        "# Check the unique values in the weapon_used_code column\n",
        "# and handle the null values accordingly\n",
        "crimes_weapon_code = crimes['weapon_used_code'].unique()\n",
        "\n",
        "print(crimes_weapon_code)\n",
        "\n",
        "crimes_weapon = crimes[\n",
        "                      crimes['weapon_used_code'].isna() ^ crimes['weapon_desc']\\\n",
        "                      .isna()][['weapon_used_code', 'weapon_desc']]\n",
        "\n",
        "print(crimes_weapon)\n",
        "\n"
      ],
      "metadata": {
        "id": "Lxr8DHpHclam",
        "colab": {
          "base_uri": "https://localhost:8080/"
        },
        "outputId": "6b65aa85-c31d-4d5f-d964-df5f60704771"
      },
      "execution_count": null,
      "outputs": [
        {
          "output_type": "stream",
          "name": "stdout",
          "text": [
            "[ nan 102. 507. 400. 500. 218. 511. 109. 200. 515. 304. 516. 312. 306.\n",
            " 106. 308. 311. 307. 303. 512. 207. 215. 503. 112. 506. 107. 216. 204.\n",
            " 114. 302. 103. 219. 113. 212. 201. 101. 205. 514. 111. 309. 223. 510.\n",
            " 108. 301. 221. 105. 305. 208. 310. 104. 217. 203. 206. 513. 210. 509.\n",
            " 220. 505. 115. 501. 211. 122. 110. 202. 214. 209. 118. 508. 117. 213.\n",
            " 502. 504. 300. 121. 125. 116. 119. 124.]\n",
            "Empty DataFrame\n",
            "Columns: [weapon_used_code, weapon_desc]\n",
            "Index: []\n"
          ]
        }
      ]
    },
    {
      "cell_type": "code",
      "source": [
        "crimes['weapon_used_code'] = crimes['weapon_used_code'].fillna(0)\n",
        "\n",
        "crimes['weapon_desc'] = crimes['weapon_desc'].fillna(\"No weapon used\")\n",
        "\n",
        "print(crimes[['weapon_used_code', 'weapon_desc']].isna().sum())"
      ],
      "metadata": {
        "id": "d_56LxO1hQlx",
        "colab": {
          "base_uri": "https://localhost:8080/"
        },
        "outputId": "ac2cefe2-3c91-4998-db23-37176367de64"
      },
      "execution_count": null,
      "outputs": [
        {
          "output_type": "stream",
          "name": "stdout",
          "text": [
            "weapon_used_code    0\n",
            "weapon_desc         0\n",
            "dtype: int64\n"
          ]
        }
      ]
    },
    {
      "cell_type": "markdown",
      "source": [
        "#### Result\n",
        "No rows were returned, meaning that:  \n",
        "- If `weapon_used_code` is null, then `weapon_desc` is also null.  \n",
        "- If one has a value, the other does too.  \n",
        "- No rows exist where only one of the two columns is null.  \n",
        "\n",
        "**Interpretation**  \n",
        "This consistent null pattern suggests that missing values in these columns indicate that no weapon was used. Therefore, it is reasonable to apply the following imputations:  \n",
        "\n",
        "| Column Name       | Missing Count | Action               | Justification |\n",
        "|-------------------|--------------:|----------------------|---------------|\n",
        "| weapon_used_code  | 257,425       | Fill with `0`         | Represents “no weapon used” and avoids leaving nulls, since no `0` code currently exists. |\n",
        "| weapon_desc       | 257,425       | Fill with `\"No weapon used\"` | Matches the imputed code and maintains consistency with the data logic. |\n"
      ],
      "metadata": {
        "id": "IX2Zknh3fIFi"
      }
    },
    {
      "cell_type": "code",
      "source": [
        "# Check the unique values in the columns 'victim_descent' and 'victim_sex'\n",
        "# and handle the null values accordingly\n",
        "print(crimes['victim_descent'].unique())\n",
        "\n",
        "print(crimes['victim_sex'].unique())\n",
        "\n",
        "crimes['victim_descent'] = crimes['victim_descent'].fillna('X')\n",
        "\n",
        "crimes['victim_sex'] = crimes['victim_sex'].fillna('X')\n",
        "\n",
        "crimes['victim_descent'] = crimes['victim_descent'].replace('-', 'X')\n",
        "\n",
        "crimes['victim_sex'] = crimes['victim_sex'].replace('-', 'X')\n",
        "\n",
        "print(crimes['victim_descent'].value_counts())\n",
        "\n",
        "print(crimes['victim_sex'].value_counts())\n",
        "\n",
        "crimes['victim_sex'] = crimes['victim_sex'].replace('H', 'X')\n",
        "\n",
        "print(crimes['victim_sex'].value_counts())"
      ],
      "metadata": {
        "id": "J3DK-Zn9lyGn",
        "colab": {
          "base_uri": "https://localhost:8080/"
        },
        "outputId": "4246571b-eb7e-4f0c-b3ba-77b1cd117d10"
      },
      "execution_count": null,
      "outputs": [
        {
          "output_type": "stream",
          "name": "stdout",
          "text": [
            "['X' 'B' 'H' nan 'W' 'O' 'F' 'C' 'A' 'J' 'K' 'V' 'Z' 'I' 'G' 'P' 'S' 'D'\n",
            " 'L' 'U' '-']\n",
            "['X' 'F' 'M' nan 'H' '-']\n",
            "victim_descent\n",
            "X    108719\n",
            "H     97977\n",
            "W     67573\n",
            "B     42217\n",
            "O     26732\n",
            "A      7280\n",
            "K      2569\n",
            "C      2311\n",
            "F      2213\n",
            "J       728\n",
            "V       558\n",
            "I       417\n",
            "Z       269\n",
            "P       117\n",
            "U        97\n",
            "D        46\n",
            "L        39\n",
            "G        28\n",
            "S        22\n",
            "Name: count, dtype: int64\n",
            "victim_sex\n",
            "M    134949\n",
            "F    119092\n",
            "X    105833\n",
            "H        38\n",
            "Name: count, dtype: int64\n",
            "victim_sex\n",
            "M    134949\n",
            "F    119092\n",
            "X    105871\n",
            "Name: count, dtype: int64\n"
          ]
        }
      ]
    },
    {
      "cell_type": "markdown",
      "source": [
        "###  Cleaning Missing Values: `victim_descent` and `victim_sex`\n",
        "\n",
        "To handle missing values in the `victim_descent` and `victim_sex` columns, I first explored the unique values in each column.\n",
        "\n",
        "####  Observations\n",
        "\n",
        "- `victim_descent` contains:\n",
        "['X', 'B', 'H', NaN, 'W', 'O', 'F', 'C', 'A', 'J', 'K', 'V', 'Z', 'I', 'G', 'P', 'S', 'D', 'L', 'U', '-']\n",
        "\n",
        "- `victim_sex` contains:\n",
        "['X', 'F', 'M', NaN, 'H', '-']\n",
        "\n",
        "####  Strategy\n",
        "\n",
        "- `'X'` is already present in both columns and is documented to mean \"unknown\".\n",
        "- `'-'` appears in both columns and will also be treated as \"unknown\" due to its ambiguous nature.\n",
        "- `NaN` values will be replaced with `'X'` to indicate unknown category.\n",
        "- `'-'` values will also be replaced with `'X'`.\n",
        "- The code `'H'` in `victim_sex` is undocumented and will be reviewed after the initial cleaning.\n",
        "\n",
        "####  Cleaning Plan\n",
        "\n",
        "- Replace `NaN` with `'X'` in both columns\n",
        "- Replace `'-'` with `'X'` in both columns\n",
        "- Investigate the meaning of `'H'` in `victim_sex` before deciding how to handle it\n",
        "\n",
        "This ensures that all unknown or unclear entries are standardized using a consistent label.\n",
        "\n",
        "###  Handling Outlier Value `'H'` in `victim_sex`\n",
        "\n",
        "During the cleaning process, an undocumented value `'H'` was identified in the `victim_sex` column. This code is **not listed in the official metadata**, which only recognizes:\n",
        "\n",
        "- `'M'` → Male  \n",
        "- `'F'` → Female  \n",
        "- `'X'` → Unknown\n",
        "\n",
        "A value count revealed that `'H'` appears in only **38 rows** out of over 350,000, making it a **semantic outlier**.\n",
        "\n",
        "####  Cleaning Decision\n",
        "\n",
        "Given that:\n",
        "- `'H'` is not documented\n",
        "- It has extremely low frequency (8 values)\n",
        "- Its meaning is unclear or possibly a data entry error\n",
        "\n",
        "It will be **replaced with `'X'`**, following the same logic used for other unknown or ambiguous entries."
      ],
      "metadata": {
        "id": "M1dy5tfpmqPm"
      }
    },
    {
      "cell_type": "code",
      "source": [
        "# Handle the missing values in the columns 'location_type_desc' and\n",
        "# 'location_type_code'\n",
        "missing_code = crimes[crimes['location_type_code'].isna()]\\\n",
        "                            [['location_type_code', 'location_type_desc']]\n",
        "print(missing_code)\n",
        "\n",
        "# Inspect the rows with missing values in both location columns\n",
        "missing_both = crimes[crimes['location_type_code'].isna()\\\n",
        "                      & crimes['location_type_desc'].isna()]\n",
        "print(missing_both)\n",
        "\n",
        "crimes = crimes[~(crimes['location_type_code'].isna()\\\n",
        "                  & crimes['location_type_desc'].isna())]\n",
        "\n"
      ],
      "metadata": {
        "id": "CWT1ZYC9m6mP",
        "colab": {
          "base_uri": "https://localhost:8080/"
        },
        "outputId": "9d61237f-5b32-4469-ce5a-60de42cb791b"
      },
      "execution_count": null,
      "outputs": [
        {
          "output_type": "stream",
          "name": "stdout",
          "text": [
            "        location_type_code location_type_desc\n",
            "62475                  NaN                NaN\n",
            "84002                  NaN                NaN\n",
            "235691                 NaN                NaN\n",
            "244534                 NaN                NaN\n",
            "260718                 NaN                NaN\n",
            "265452                 NaN                NaN\n",
            "277836                 NaN                NaN\n",
            "294867                 NaN                NaN\n",
            "          file_id           date_reported           date_occurred  \\\n",
            "62475   231014607  2023-10-03 00:00:00-06  2023-10-01 00:00:00-06   \n",
            "84002   231108802  2023-05-10 00:00:00-06  2023-05-09 00:00:00-06   \n",
            "235691  241810568  2024-06-08 00:00:00-06  2024-05-24 00:00:00-06   \n",
            "244534  240913140  2024-11-20 00:00:00-06  2024-11-20 00:00:00-06   \n",
            "260718  241414192  2024-11-21 00:00:00-06  2024-09-30 00:00:00-06   \n",
            "265452  241009743  2024-07-04 00:00:00-06  2024-07-04 00:00:00-06   \n",
            "277836  241009122  2024-05-30 00:00:00-06  2024-05-30 00:00:00-06   \n",
            "294867  240113651  2024-06-29 00:00:00-06  2024-06-28 00:00:00-06   \n",
            "\n",
            "        time_occurred  area_code    area_name  crime_committed_code  \\\n",
            "62475             700         10  West Valley                   626   \n",
            "84002            1825         11    Northeast                   420   \n",
            "235691           1900         18    Southeast                   510   \n",
            "244534            120          9     Van Nuys                   522   \n",
            "260718           2200         14      Pacific                   341   \n",
            "265452           1216         10  West Valley                   420   \n",
            "277836            810         10  West Valley                   420   \n",
            "294867           1600          1      Central                   510   \n",
            "\n",
            "                                          crime_committed  victim_age  \\\n",
            "62475                   INTIMATE PARTNER - SIMPLE ASSAULT          57   \n",
            "84002     THEFT FROM MOTOR VEHICLE - PETTY ($950 & UNDER)           0   \n",
            "235691                                   VEHICLE - STOLEN           0   \n",
            "244534  VEHICLE, STOLEN - OTHER (MOTORIZED SCOOTERS, B...           0   \n",
            "260718  THEFT-GRAND ($950.01 & OVER)EXCPT,GUNS,FOWL,LI...           0   \n",
            "265452    THEFT FROM MOTOR VEHICLE - PETTY ($950 & UNDER)           0   \n",
            "277836    THEFT FROM MOTOR VEHICLE - PETTY ($950 & UNDER)           0   \n",
            "294867                                   VEHICLE - STOLEN           0   \n",
            "\n",
            "       victim_sex  ... crime_code_1  crime_code_2 crime_code_3 crime_code_4  \\\n",
            "62475           F  ...        626.0           NaN          NaN          NaN   \n",
            "84002           X  ...        420.0           NaN          NaN          NaN   \n",
            "235691          X  ...        510.0           NaN          NaN          NaN   \n",
            "244534          X  ...        522.0           NaN          NaN          NaN   \n",
            "260718          X  ...        341.0           NaN          NaN          NaN   \n",
            "265452          X  ...        420.0           NaN          NaN          NaN   \n",
            "277836          X  ...        420.0           NaN          NaN          NaN   \n",
            "294867          X  ...        510.0           NaN          NaN          NaN   \n",
            "\n",
            "                                  crime_location  location_type_code  \\\n",
            "62475   18300    ROSCOE                       BL                 NaN   \n",
            "84002    2200 N  FIGUEROA                     ST                 NaN   \n",
            "235691  13500 S  FIGUEROA                     ST                 NaN   \n",
            "244534           SHERMAN                      WY                 NaN   \n",
            "260718   3600    WESTWOOD                     BL                 NaN   \n",
            "265452   8200    BALBOA                       BL                 NaN   \n",
            "277836  19000    VANOWEN                      ST                 NaN   \n",
            "294867   1300 N  MAIN                         ST                 NaN   \n",
            "\n",
            "        location_type_desc  cross_street  latitude longitude  \n",
            "62475                  NaN           NaN   34.2208 -118.5317  \n",
            "84002                  NaN           NaN   34.0884 -118.2258  \n",
            "235691                 NaN           NaN   33.9092 -118.2827  \n",
            "244534                 NaN     FIRMAMENT   34.2012 -118.4724  \n",
            "260718                 NaN           NaN   34.0210 -118.4128  \n",
            "265452                 NaN           NaN   34.2185 -118.5016  \n",
            "277836                 NaN           NaN   34.1938 -118.5470  \n",
            "294867                 NaN           NaN   34.0644 -118.2320  \n",
            "\n",
            "[8 rows x 25 columns]\n"
          ]
        }
      ]
    },
    {
      "cell_type": "markdown",
      "source": [
        "###  Removing Rows with Missing Location Type Data\n",
        "\n",
        "During the cleaning process, I found that both `location_type_code` and `location_type_desc` contained 8 rows with missing values **in both columns simultaneously**.\n",
        "\n",
        "####  Analysis\n",
        "\n",
        "- These columns describe the type of structure or location where the crime occurred.\n",
        "- While informative, they are not critical for most of the primary analyses (e.g., time trends, crime types, geographical distribution).\n",
        "- The 8 rows represent an extremely small portion of the dataset (~0.002%).\n",
        "\n",
        "####  Cleaning Decision\n",
        "\n",
        "Since:\n",
        "- The missing values can't be inferred (both columns are empty),\n",
        "- The columns are secondary,\n",
        "- And the number of affected rows is negligible,\n",
        "\n",
        "I chose to **remove those rows** to avoid future issues during grouping, visualization, or statistical operations."
      ],
      "metadata": {
        "id": "8YEb2btSpJj4"
      }
    },
    {
      "cell_type": "code",
      "source": [
        "# Fill missing values in the column 'location_type_desc'\n",
        "\n",
        "mapping = crimes.dropna(subset=['location_type_code', 'location_type_desc'])\\\n",
        "          .drop_duplicates(subset='location_type_code')\\\n",
        "          .set_index('location_type_code')['location_type_desc']\\\n",
        "          .to_dict()\n",
        "\n",
        "crimes['location_type_desc'] = crimes['location_type_desc']\\\n",
        "                              .fillna(crimes['location_type_code']\\\n",
        "                              .map(mapping))\n",
        "\n",
        "print(crimes['location_type_desc'].isna().sum())"
      ],
      "metadata": {
        "id": "sN7zEayCpxzS",
        "colab": {
          "base_uri": "https://localhost:8080/"
        },
        "outputId": "4d7ff05b-2cd6-4708-828d-a888f3347c9e"
      },
      "execution_count": null,
      "outputs": [
        {
          "output_type": "stream",
          "name": "stdout",
          "text": [
            "271\n"
          ]
        }
      ]
    },
    {
      "cell_type": "markdown",
      "source": [
        "###  Data Cleaning: location_type_desc\n",
        "The column location_type_desc contains the textual description of the type of location where a crime occurred (e.g., “Single Family Dwelling”, “Street”, “Parking Lot”).\n",
        "\n",
        " Initial Issues\n",
        "The column had 279 missing values.\n",
        "\n",
        "Our goal was to fill these missing values using the corresponding location_type_code, assuming that a consistent mapping exists.\n",
        "\n",
        "####  Mapping Strategy\n",
        "We built a mapping dictionary by extracting all unique (location_type_code, location_type_desc) pairs where both values were present\n",
        "\n",
        "This mapping step did not fill any new values. Although it initially seemed to reduce the number of missing entries from 279 to 271, further analysis revealed that the 8 missing values were removed earlier when we dropped rows where both location_type_code and location_type_desc were NaN. These were not filled by the mapping logic, but rather eliminated entirely from the dataset."
      ],
      "metadata": {
        "id": "DkGCHo6Fqq5j"
      }
    },
    {
      "cell_type": "code",
      "source": [
        "# Verify whether there are any location codes associated with multiple descriptions\n",
        "desc_counts = crimes.dropna(subset=['location_type_code', 'location_type_desc'])\\\n",
        "                    .groupby('location_type_code')['location_type_desc'] \\\n",
        "                    .nunique() \\\n",
        "                    .reset_index(name='unique_descriptions')\n",
        "\n",
        "multiple_desc = desc_counts[desc_counts['unique_descriptions'] > 1]\n",
        "print(multiple_desc)\n",
        "print(crimes['location_type_code'].isna().sum())\n",
        "\n",
        "missing_desc_codes = crimes[crimes['location_type_desc']\\\n",
        "                            .isna()]['location_type_code'].unique()\n",
        "print(missing_desc_codes)\n",
        "print(mapping.keys())\n",
        "missing_in_dict = set(missing_desc_codes) - set(mapping.keys())\n",
        "print(missing_in_dict)\n",
        "\n",
        "crimes['location_type_desc'] = crimes['location_type_desc'].fillna('Unknown')"
      ],
      "metadata": {
        "id": "wn3gAlwGqz_m",
        "colab": {
          "base_uri": "https://localhost:8080/"
        },
        "outputId": "1765ad72-416e-47a3-d463-12bbc923fdf1"
      },
      "execution_count": null,
      "outputs": [
        {
          "output_type": "stream",
          "name": "stdout",
          "text": [
            "Empty DataFrame\n",
            "Columns: [location_type_code, unique_descriptions]\n",
            "Index: []\n",
            "0\n",
            "[418. 974. 256. 972. 973. 976. 975.]\n",
            "dict_keys([902.0, 101.0, 108.0, 707.0, 123.0, 405.0, 702.0, 502.0, 203.0, 501.0, 102.0, 404.0, 122.0, 301.0, 402.0, 401.0, 221.0, 507.0, 124.0, 719.0, 403.0, 104.0, 510.0, 727.0, 701.0, 121.0, 722.0, 505.0, 202.0, 721.0, 248.0, 109.0, 504.0, 218.0, 503.0, 720.0, 158.0, 116.0, 103.0, 514.0, 117.0, 212.0, 210.0, 217.0, 706.0, 242.0, 714.0, 708.0, 811.0, 704.0, 744.0, 406.0, 728.0, 506.0, 735.0, 118.0, 235.0, 145.0, 255.0, 710.0, 408.0, 801.0, 213.0, 834.0, 516.0, 222.0, 207.0, 112.0, 119.0, 243.0, 416.0, 208.0, 509.0, 913.0, 726.0, 723.0, 730.0, 415.0, 750.0, 903.0, 515.0, 238.0, 205.0, 156.0, 901.0, 215.0, 602.0, 725.0, 216.0, 606.0, 911.0, 154.0, 147.0, 904.0, 738.0, 742.0, 717.0, 912.0, 906.0, 252.0, 729.0, 941.0, 135.0, 905.0, 932.0, 214.0, 144.0, 152.0, 146.0, 239.0, 201.0, 253.0, 732.0, 244.0, 908.0, 802.0, 518.0, 141.0, 414.0, 511.0, 885.0, 410.0, 712.0, 948.0, 605.0, 740.0, 949.0, 110.0, 219.0, 711.0, 909.0, 718.0, 417.0, 956.0, 754.0, 247.0, 739.0, 250.0, 111.0, 910.0, 954.0, 957.0, 940.0, 409.0, 120.0, 517.0, 249.0, 139.0, 809.0, 107.0, 942.0, 142.0, 140.0, 944.0, 229.0, 953.0, 969.0, 204.0, 232.0, 114.0, 751.0, 407.0, 220.0, 148.0, 868.0, 921.0, 943.0, 835.0, 151.0, 251.0, 716.0, 900.0, 753.0, 230.0, 149.0, 157.0, 741.0, 920.0, 713.0, 508.0, 907.0, 209.0, 752.0, 733.0, 233.0, 411.0, 413.0, 237.0, 303.0, 150.0, 231.0, 958.0, 225.0, 935.0, 945.0, 947.0, 228.0, 245.0, 755.0, 933.0, 128.0, 106.0, 965.0, 966.0, 897.0, 724.0, 703.0, 946.0, 936.0, 931.0, 709.0, 129.0, 236.0, 211.0, 705.0, 922.0, 519.0, 412.0, 950.0, 138.0, 254.0, 604.0, 836.0, 804.0, 155.0, 512.0, 882.0, 895.0, 302.0, 731.0, 513.0, 105.0, 143.0, 934.0, 136.0, 810.0, 126.0, 206.0, 736.0, 967.0, 878.0, 916.0, 223.0, 971.0, 748.0, 968.0, 937.0, 756.0, 234.0, 227.0, 962.0, 745.0, 871.0, 951.0, 873.0, 970.0, 952.0, 917.0, 884.0, 113.0, 872.0, 601.0, 876.0, 874.0, 115.0, 803.0, 734.0, 893.0, 963.0, 757.0, 875.0, 880.0, 246.0, 964.0, 603.0, 915.0, 125.0, 883.0, 127.0, 743.0, 918.0, 241.0, 607.0, 869.0, 919.0, 240.0, 737.0, 879.0, 894.0, 870.0, 898.0, 896.0, 304.0, 961.0, 746.0, 608.0, 892.0])\n",
            "{np.float64(256.0), np.float64(418.0), np.float64(972.0), np.float64(973.0), np.float64(974.0), np.float64(975.0), np.float64(976.0)}\n"
          ]
        }
      ]
    },
    {
      "cell_type": "markdown",
      "source": [
        "####  Investigation of Remaining Missing Values\n",
        "We discovered that the remaining 271 rows had location_type_code values that were never associated with a known description in the dataset:\n",
        "\n",
        "missing_codes = [256.0, 418.0, 972.0, 973.0, 974.0, 975.0, 976.0]\n",
        "Since no external documentation for these codes was available and they were not found elsewhere in the data, we treated them as unknown types.\n",
        "\n",
        "#####  Final Fix\n",
        "We replaced the remaining missing descriptions with a placeholder value:\n",
        "\n",
        "crimes['location_type_desc'] = crimes['location_type_desc'].fillna('Unknown')\n",
        "This ensures data consistency while preserving these records for future analysis."
      ],
      "metadata": {
        "id": "a6u_vx4nrF4j"
      }
    },
    {
      "cell_type": "code",
      "source": [
        "# Clean the null value in the column 'case_status'\n",
        "print(crimes.loc[crimes['case_status'].isna(), ['case_status', 'status_desc']])\n",
        "print(crimes['case_status'].isna().sum())"
      ],
      "metadata": {
        "id": "_aaWgqN9vDK7",
        "colab": {
          "base_uri": "https://localhost:8080/"
        },
        "outputId": "42f0f08e-6611-4473-d447-b023fcbcf705"
      },
      "execution_count": null,
      "outputs": [
        {
          "output_type": "stream",
          "name": "stdout",
          "text": [
            "Empty DataFrame\n",
            "Columns: [case_status, status_desc]\n",
            "Index: []\n",
            "0\n"
          ]
        }
      ]
    },
    {
      "cell_type": "markdown",
      "source": [
        "###  Data Cleaning: case_status and Final Null Check\n",
        "The column case_status initially appeared to contain 1 missing value.\n",
        "\n",
        "However, the result returned no rows, indicating that the missing value had already been removed earlier in the process. Most likely, it belonged to one of the 8 rows that were deleted when both location_type_code and location_type_desc were null."
      ],
      "metadata": {
        "id": "33hdZ1AevDzK"
      }
    },
    {
      "cell_type": "code",
      "source": [
        "# Final check\n",
        "missing = crimes.isna().sum().reset_index()\n",
        "missing.columns = ['column', 'missing_values']\n",
        "missing = missing[missing['missing_values'] > 0]\\\n",
        "                 .sort_values(by='missing_values', ascending=False)\n",
        "print(missing)\n"
      ],
      "metadata": {
        "id": "7lC3p4X_vYMw",
        "colab": {
          "base_uri": "https://localhost:8080/"
        },
        "outputId": "5c4b4f1d-e8ce-493c-80d0-e2c26e80edbc"
      },
      "execution_count": null,
      "outputs": [
        {
          "output_type": "stream",
          "name": "stdout",
          "text": [
            "          column  missing_values\n",
            "18  crime_code_4          359888\n",
            "17  crime_code_3          359236\n",
            "16  crime_code_2          339340\n",
            "22  cross_street          311333\n",
            "15  crime_code_1               4\n"
          ]
        }
      ]
    },
    {
      "cell_type": "markdown",
      "source": [
        "After cleaning all major columns, we performed a final check for missing values.\n",
        "\n",
        "The only remaining missing values are in:\n",
        "\n",
        "crime_code_2, crime_code_3, and crime_code_4:\n",
        "These are expected, since not every crime is associated with multiple codes.\n",
        "\n",
        "cross_street:\n",
        "This column is optional, so nulls are acceptable.\n",
        "\n",
        "No action is required for these columns, as their missing values do not affect the integrity of the dataset or the planned analysis."
      ],
      "metadata": {
        "id": "kaXSgcdvvhqT"
      }
    },
    {
      "cell_type": "markdown",
      "source": [
        "## Data Type Conversion"
      ],
      "metadata": {
        "id": "oYquffzgwf3N"
      }
    },
    {
      "cell_type": "code",
      "source": [
        "# Convert to the correct data types\n",
        "print(crimes.info())\n",
        "\n",
        "string_columns = [\n",
        "    'area_name', 'crime_committed', 'victim_sex', 'victim_descent',\n",
        "    'weapon_desc', 'case_status', 'status_desc',\n",
        "    'crime_location', 'location_type_desc', 'cross_street'\n",
        "]\n",
        "\n",
        "# Convert float/int codes that are categorical\n",
        "categorical_columns = [\n",
        "    'crime_code_1', 'crime_code_2', 'crime_code_3', 'crime_code_4',\n",
        "    'weapon_used_code', 'location_type_code', 'victim_sex', 'victim_descent',\n",
        "    'crime_committed_code', 'area_code',\n",
        "]\n",
        "\n",
        "crimes[string_columns] = crimes[string_columns].astype('string')\n",
        "crimes[categorical_columns] = crimes[categorical_columns].astype('category')"
      ],
      "metadata": {
        "id": "zQRZ4L1gwuXf",
        "colab": {
          "base_uri": "https://localhost:8080/"
        },
        "outputId": "2577cab3-042f-41ea-d4d9-1b66b408812c"
      },
      "execution_count": null,
      "outputs": [
        {
          "output_type": "stream",
          "name": "stdout",
          "text": [
            "<class 'pandas.core.frame.DataFrame'>\n",
            "Index: 359904 entries, 0 to 359911\n",
            "Data columns (total 25 columns):\n",
            " #   Column                Non-Null Count   Dtype  \n",
            "---  ------                --------------   -----  \n",
            " 0   file_id               359904 non-null  int64  \n",
            " 1   date_reported         359904 non-null  object \n",
            " 2   date_occurred         359904 non-null  object \n",
            " 3   time_occurred         359904 non-null  int64  \n",
            " 4   area_code             359904 non-null  int64  \n",
            " 5   area_name             359904 non-null  object \n",
            " 6   crime_committed_code  359904 non-null  int64  \n",
            " 7   crime_committed       359904 non-null  object \n",
            " 8   victim_age            359904 non-null  int64  \n",
            " 9   victim_sex            359904 non-null  object \n",
            " 10  victim_descent        359904 non-null  object \n",
            " 11  weapon_used_code      359904 non-null  float64\n",
            " 12  weapon_desc           359904 non-null  object \n",
            " 13  case_status           359904 non-null  object \n",
            " 14  status_desc           359904 non-null  object \n",
            " 15  crime_code_1          359900 non-null  float64\n",
            " 16  crime_code_2          20564 non-null   float64\n",
            " 17  crime_code_3          668 non-null     float64\n",
            " 18  crime_code_4          16 non-null      float64\n",
            " 19  crime_location        359904 non-null  object \n",
            " 20  location_type_code    359904 non-null  float64\n",
            " 21  location_type_desc    359904 non-null  object \n",
            " 22  cross_street          48571 non-null   object \n",
            " 23  latitude              359904 non-null  float64\n",
            " 24  longitude             359904 non-null  float64\n",
            "dtypes: float64(8), int64(5), object(12)\n",
            "memory usage: 71.4+ MB\n",
            "None\n"
          ]
        }
      ]
    },
    {
      "cell_type": "markdown",
      "source": [
        "### Data Type Conversion (Excluding Date Columns)\n",
        "\n",
        "To ensure each column has the correct data type and optimize both memory usage and analysis, the following conversions were applied:\n",
        "\n",
        "- **String Conversion:** Columns with text-based data originally stored as `object` were converted to `string` type.\n",
        "- **Category Conversion:** Columns containing a finite set of repeating numerical codes were converted to `category` type."
      ],
      "metadata": {
        "id": "6X8EbHKTwPtm"
      }
    },
    {
      "cell_type": "code",
      "source": [
        "# Extract the date from the columns 'date_reported' and 'date_occurred'\n",
        "print(crimes[['date_reported', 'date_occurred']].head(10))\n",
        "\n",
        "crimes['date_reported'] = crimes['date_reported'].str[:10]\n",
        "crimes['date_occurred'] = crimes['date_occurred'].str[:10]\n",
        "\n",
        "# Convert the previous columns to date_time\n",
        "crimes['date_reported'] = pd.to_datetime(crimes['date_reported'])\n",
        "crimes['date_occurred'] = pd.to_datetime(crimes['date_occurred'])\n",
        "\n",
        "# Final verification\n",
        "print(crimes.info())"
      ],
      "metadata": {
        "id": "GAIuIf-MyWbH",
        "colab": {
          "base_uri": "https://localhost:8080/"
        },
        "outputId": "0c2741d0-bdd9-42a2-f5fc-d8c8a1adbaa7"
      },
      "execution_count": null,
      "outputs": [
        {
          "output_type": "stream",
          "name": "stdout",
          "text": [
            "            date_reported           date_occurred\n",
            "0  2024-07-11 00:00:00-06  2024-07-11 00:00:00-06\n",
            "1  2024-07-09 00:00:00-06  2024-07-09 00:00:00-06\n",
            "2  2024-01-09 00:00:00-06  2024-01-08 00:00:00-06\n",
            "3  2024-05-29 00:00:00-06  2024-05-28 00:00:00-06\n",
            "4  2024-02-21 00:00:00-06  2024-02-18 00:00:00-06\n",
            "5  2024-04-18 00:00:00-06  2024-04-16 00:00:00-06\n",
            "6  2024-09-11 00:00:00-06  2024-09-11 00:00:00-06\n",
            "7  2024-01-14 00:00:00-06  2024-01-14 00:00:00-06\n",
            "8  2024-06-06 00:00:00-06  2024-06-05 00:00:00-06\n",
            "9  2024-02-11 00:00:00-06  2024-02-11 00:00:00-06\n",
            "<class 'pandas.core.frame.DataFrame'>\n",
            "Index: 359904 entries, 0 to 359911\n",
            "Data columns (total 25 columns):\n",
            " #   Column                Non-Null Count   Dtype         \n",
            "---  ------                --------------   -----         \n",
            " 0   file_id               359904 non-null  int64         \n",
            " 1   date_reported         359904 non-null  datetime64[ns]\n",
            " 2   date_occurred         359904 non-null  datetime64[ns]\n",
            " 3   time_occurred         359904 non-null  int64         \n",
            " 4   area_code             359904 non-null  category      \n",
            " 5   area_name             359904 non-null  string        \n",
            " 6   crime_committed_code  359904 non-null  category      \n",
            " 7   crime_committed       359904 non-null  string        \n",
            " 8   victim_age            359904 non-null  int64         \n",
            " 9   victim_sex            359904 non-null  category      \n",
            " 10  victim_descent        359904 non-null  category      \n",
            " 11  weapon_used_code      359904 non-null  category      \n",
            " 12  weapon_desc           359904 non-null  string        \n",
            " 13  case_status           359904 non-null  string        \n",
            " 14  status_desc           359904 non-null  string        \n",
            " 15  crime_code_1          359900 non-null  category      \n",
            " 16  crime_code_2          20564 non-null   category      \n",
            " 17  crime_code_3          668 non-null     category      \n",
            " 18  crime_code_4          16 non-null      category      \n",
            " 19  crime_location        359904 non-null  string        \n",
            " 20  location_type_code    359904 non-null  category      \n",
            " 21  location_type_desc    359904 non-null  string        \n",
            " 22  cross_street          48571 non-null   string        \n",
            " 23  latitude              359904 non-null  float64       \n",
            " 24  longitude             359904 non-null  float64       \n",
            "dtypes: category(10), datetime64[ns](2), float64(2), int64(3), string(8)\n",
            "memory usage: 48.4 MB\n",
            "None\n"
          ]
        }
      ]
    },
    {
      "cell_type": "markdown",
      "source": [
        "## Date Columns Cleaning – `date_reported` & `date_occurred`\n",
        "\n",
        "Both columns contained a full timestamp with timezone offset (e.g., `2024-07-11 00:00:00-06`) stored as `object`.  \n",
        "The time part was not required for analysis, so the cleaning process involved:\n",
        "\n",
        "1. **Extracting only the date part**  \n",
        "   Kept only the first 10 characters (`YYYY-MM-DD`) from each string.\n",
        "2. **Converting to `datetime` type**  \n",
        "   Ensured both columns were recognized as true date objects for proper temporal analysis.\n",
        "\n",
        " This approach preserved the date format (YYYY-MM-DD) and ensured the columns are ready for date-based operations such as filtering, grouping, and sorting.\n",
        "\n",
        "As stated in a previous note, the data type conversion could have been avoided by using the parse_dates argument in the pandas pd.read_csv() method. However, I chose to keep the current code and simply note this for future reference."
      ],
      "metadata": {
        "id": "nmTyeLuyye93"
      }
    },
    {
      "cell_type": "code",
      "source": [
        "# Drop duplicates if any\n",
        "crimes.drop_duplicates(inplace=True)"
      ],
      "metadata": {
        "id": "UNT2sRFU0Dvf"
      },
      "execution_count": null,
      "outputs": []
    },
    {
      "cell_type": "markdown",
      "source": [
        "## Final Data Cleaning Steps"
      ],
      "metadata": {
        "id": "YJ2u8Dre0PKR"
      }
    },
    {
      "cell_type": "code",
      "source": [
        "# Verify that the colum 'victim_age' does not have imposible values\n",
        "print(f'The youngest victim is {crimes[\"victim_age\"].min()} years old')\n",
        "print(f'The oldest victim is {crimes[\"victim_age\"].max()} years old')\n",
        "\n",
        "# Verify that the reported date is not before the crime occurred\n",
        "date_inversed = (crimes['date_reported'] < crimes['date_occurred']).sum()\n",
        "print(f'Date inversed: {date_inversed}')\n",
        "\n",
        "# Verify that latitude and longitude are within the range\n",
        "lat_out = ((crimes['latitude'] < 33.7) | (crimes['latitude'] > 34.4)).sum()\n",
        "lon_out = ((crimes['longitude'] < -118.7) | (crimes['longitude'] > -117.1)).sum()\n",
        "\n",
        "print(f\"Latitude values out of range: {lat_out}\")\n",
        "print(f\"Longitude values out of range: {lon_out}\")\n",
        "\n",
        "# Correct the age outlier\n",
        "crimes['victim_age'] = crimes['victim_age'].replace(-1, 1)\n",
        "\n",
        "# Verify the coordinates out of the city's range\n",
        "lat_min, lat_max = 33.7, 34.4\n",
        "lon_min, lon_max = -118.7, -117.1\n",
        "\n",
        "coords_out = crimes[\n",
        "    (crimes['latitude'] < lat_min) | (crimes['latitude'] > lat_max) |\n",
        "    (crimes['longitude'] < lon_min) | (crimes['longitude'] > lon_max)\n",
        "]\n",
        "\n",
        "print(\"Coordinates out of range:\")\n",
        "print(coords_out)\n",
        "\n",
        "# Drop the four rows with empty coordinates (0.0, 0.0)\n",
        "crimes = crimes[~((crimes['latitude'] == 0.0) & (crimes['longitude'] == 0.0))]\n",
        "\n",
        "# Verify the change in the number of rows after dropping\n",
        "print(f\"Number of rows after dropping coordinates (0.0, 0.0): {crimes.shape[0]}\")"
      ],
      "metadata": {
        "id": "oXwCjYaf0QKl",
        "colab": {
          "base_uri": "https://localhost:8080/"
        },
        "outputId": "8930790e-c490-4c0f-a04d-1f16dfe3f79c"
      },
      "execution_count": null,
      "outputs": [
        {
          "output_type": "stream",
          "name": "stdout",
          "text": [
            "The youngest victim is -1 years old\n",
            "The oldest victim is 99 years old\n",
            "Date inversed: 0\n",
            "Latitude values out of range: 4\n",
            "Longitude values out of range: 4\n",
            "Coordinates out of range:\n",
            "          file_id date_reported date_occurred  time_occurred area_code  \\\n",
            "60894   230209890    2023-05-01    2023-05-01            730         2   \n",
            "69913   231611142    2023-08-16    2023-08-16           2010        16   \n",
            "183257  230909413    2023-05-15    2023-05-15           1230         9   \n",
            "209520  241106171    2024-02-26    2023-11-01           2000        11   \n",
            "\n",
            "        area_name crime_committed_code  \\\n",
            "60894     Rampart                  624   \n",
            "69913    Foothill                  230   \n",
            "183257   Van Nuys                  930   \n",
            "209520  Northeast                  664   \n",
            "\n",
            "                                       crime_committed  victim_age victim_sex  \\\n",
            "60894                         BATTERY - SIMPLE ASSAULT          24          F   \n",
            "69913   ASSAULT WITH DEADLY WEAPON, AGGRAVATED ASSAULT          53          M   \n",
            "183257          CRIMINAL THREATS - NO WEAPON DISPLAYED          41          F   \n",
            "209520                              BUNCO, PETTY THEFT          58          F   \n",
            "\n",
            "        ... crime_code_1 crime_code_2 crime_code_3 crime_code_4  \\\n",
            "60894   ...        624.0          NaN          NaN          NaN   \n",
            "69913   ...        230.0          NaN          NaN          NaN   \n",
            "183257  ...        930.0          NaN          NaN          NaN   \n",
            "209520  ...        664.0          NaN          NaN          NaN   \n",
            "\n",
            "                                 crime_location location_type_code  \\\n",
            "60894           WASHINGTON                   BL              101.0   \n",
            "69913                                 PENDLETON              101.0   \n",
            "183257  3800    SHEWOOD                      PL              501.0   \n",
            "209520  1900    TRANSIENT                    ST              101.0   \n",
            "\n",
            "            location_type_desc                     cross_street latitude  \\\n",
            "60894                   STREET  RAMPART                      BL      0.0   \n",
            "69913                   STREET                            KEWEN      0.0   \n",
            "183257  SINGLE FAMILY DWELLING                             <NA>      0.0   \n",
            "209520                  STREET                             <NA>      0.0   \n",
            "\n",
            "       longitude  \n",
            "60894        0.0  \n",
            "69913        0.0  \n",
            "183257       0.0  \n",
            "209520       0.0  \n",
            "\n",
            "[4 rows x 25 columns]\n",
            "Number of rows after dropping coordinates (0.0, 0.0): 359900\n"
          ]
        }
      ]
    },
    {
      "cell_type": "markdown",
      "source": [
        "- **Victim Age Correction**  \n",
        "  - Identified a minimum value of `-1` years, which is invalid.  \n",
        "  - Replaced `-1` with `1` to correct the data entry error.  \n",
        "  - Maximum value is `99`, considered acceptable based on metadata constraints (two-digit values only).\n",
        "\n",
        "- **Coordinate Cleaning**  \n",
        "  - Verified valid ranges for Los Angeles coordinates:  \n",
        "    - Latitude: `33.5` to `34.5`  \n",
        "    - Longitude: `-119.0` to `-117.0`  \n",
        "  - Found 4 rows with coordinates `0.00, 0.00` for both latitude and longitude.  \n",
        "  - Decided to remove these rows as the number is minimal and mapping based on area codes would add unnecessary complexity.\n",
        "\n",
        "- **Date Consistency Check**  \n",
        "  - Verified that there are no rows where `date_reported` is earlier than `date_occurred` (no inverted dates found).\n"
      ],
      "metadata": {
        "id": "Zfj3gX9K0cEU"
      }
    },
    {
      "cell_type": "markdown",
      "source": [
        "# --EDA start--"
      ],
      "metadata": {
        "id": "sYRTFcskr_bB"
      }
    },
    {
      "cell_type": "code",
      "source": [
        "# Get a description of the cleaned dataframe\n",
        "print(crimes.shape)\n",
        "print(crimes.info())\n",
        "print(crimes.describe(include='all'))\n",
        "print(crimes.head())\n",
        "print(crimes.tail())\n"
      ],
      "metadata": {
        "id": "Z7Wbi_vVsH3e",
        "colab": {
          "base_uri": "https://localhost:8080/"
        },
        "outputId": "be45da19-ed0a-44cd-e438-18610d02b4c5"
      },
      "execution_count": null,
      "outputs": [
        {
          "output_type": "stream",
          "name": "stdout",
          "text": [
            "(359900, 25)\n",
            "<class 'pandas.core.frame.DataFrame'>\n",
            "Index: 359900 entries, 0 to 359911\n",
            "Data columns (total 25 columns):\n",
            " #   Column                Non-Null Count   Dtype         \n",
            "---  ------                --------------   -----         \n",
            " 0   file_id               359900 non-null  int64         \n",
            " 1   date_reported         359900 non-null  datetime64[ns]\n",
            " 2   date_occurred         359900 non-null  datetime64[ns]\n",
            " 3   time_occurred         359900 non-null  int64         \n",
            " 4   area_code             359900 non-null  category      \n",
            " 5   area_name             359900 non-null  string        \n",
            " 6   crime_committed_code  359900 non-null  category      \n",
            " 7   crime_committed       359900 non-null  string        \n",
            " 8   victim_age            359900 non-null  int64         \n",
            " 9   victim_sex            359900 non-null  category      \n",
            " 10  victim_descent        359900 non-null  category      \n",
            " 11  weapon_used_code      359900 non-null  category      \n",
            " 12  weapon_desc           359900 non-null  string        \n",
            " 13  case_status           359900 non-null  string        \n",
            " 14  status_desc           359900 non-null  string        \n",
            " 15  crime_code_1          359896 non-null  category      \n",
            " 16  crime_code_2          20564 non-null   category      \n",
            " 17  crime_code_3          668 non-null     category      \n",
            " 18  crime_code_4          16 non-null      category      \n",
            " 19  crime_location        359900 non-null  string        \n",
            " 20  location_type_code    359900 non-null  category      \n",
            " 21  location_type_desc    359900 non-null  string        \n",
            " 22  cross_street          48569 non-null   string        \n",
            " 23  latitude              359900 non-null  float64       \n",
            " 24  longitude             359900 non-null  float64       \n",
            "dtypes: category(10), datetime64[ns](2), float64(2), int64(3), string(8)\n",
            "memory usage: 48.4 MB\n",
            "None\n",
            "             file_id                  date_reported  \\\n",
            "count   3.599000e+05                         359900   \n",
            "unique           NaN                            NaN   \n",
            "top              NaN                            NaN   \n",
            "freq             NaN                            NaN   \n",
            "mean    2.347973e+08  2023-11-01 05:10:42.618505472   \n",
            "min     2.315000e+03            2023-01-01 00:00:00   \n",
            "25%     2.308180e+08            2023-05-30 00:00:00   \n",
            "50%     2.317103e+08            2023-10-18 00:00:00   \n",
            "75%     2.407067e+08            2024-03-09 00:00:00   \n",
            "max     2.521040e+08            2025-03-17 00:00:00   \n",
            "std     4.921363e+06                            NaN   \n",
            "\n",
            "                        date_occurred  time_occurred  area_code area_name  \\\n",
            "count                          359900  359900.000000   359900.0    359900   \n",
            "unique                            NaN            NaN       21.0        21   \n",
            "top                               NaN            NaN        1.0   Central   \n",
            "freq                              NaN            NaN    27177.0     27177   \n",
            "mean    2023-10-24 22:36:48.533481472    1351.249372        NaN       NaN   \n",
            "min               2023-01-01 00:00:00       1.000000        NaN       NaN   \n",
            "25%               2023-05-22 00:00:00     912.000000        NaN       NaN   \n",
            "50%               2023-10-10 00:00:00    1430.000000        NaN       NaN   \n",
            "75%               2024-03-02 00:00:00    1900.000000        NaN       NaN   \n",
            "max               2024-12-30 00:00:00    2359.000000        NaN       NaN   \n",
            "std                               NaN     645.099487        NaN       NaN   \n",
            "\n",
            "        crime_committed_code   crime_committed     victim_age victim_sex  ...  \\\n",
            "count               359900.0            359900  359900.000000     359900  ...   \n",
            "unique                 138.0               138            NaN          3  ...   \n",
            "top                    510.0  VEHICLE - STOLEN            NaN          M  ...   \n",
            "freq                 45979.0             45979            NaN     134948  ...   \n",
            "mean                     NaN               NaN      26.890083        NaN  ...   \n",
            "min                      NaN               NaN       0.000000        NaN  ...   \n",
            "25%                      NaN               NaN       0.000000        NaN  ...   \n",
            "50%                      NaN               NaN      28.000000        NaN  ...   \n",
            "75%                      NaN               NaN      43.000000        NaN  ...   \n",
            "max                      NaN               NaN      99.000000        NaN  ...   \n",
            "std                      NaN               NaN      22.431722        NaN  ...   \n",
            "\n",
            "       crime_code_1  crime_code_2 crime_code_3 crime_code_4  \\\n",
            "count      359896.0       20564.0        668.0         16.0   \n",
            "unique        141.0          98.0         15.0          3.0   \n",
            "top           510.0         998.0        998.0        998.0   \n",
            "freq        45971.0       16821.0        595.0         13.0   \n",
            "mean            NaN           NaN          NaN          NaN   \n",
            "min             NaN           NaN          NaN          NaN   \n",
            "25%             NaN           NaN          NaN          NaN   \n",
            "50%             NaN           NaN          NaN          NaN   \n",
            "75%             NaN           NaN          NaN          NaN   \n",
            "max             NaN           NaN          NaN          NaN   \n",
            "std             NaN           NaN          NaN          NaN   \n",
            "\n",
            "                                crime_location  location_type_code  \\\n",
            "count                                   359900            359900.0   \n",
            "unique                                   49924               304.0   \n",
            "top     800 N  ALAMEDA                      ST               101.0   \n",
            "freq                                      1428             99455.0   \n",
            "mean                                       NaN                 NaN   \n",
            "min                                        NaN                 NaN   \n",
            "25%                                        NaN                 NaN   \n",
            "50%                                        NaN                 NaN   \n",
            "75%                                        NaN                 NaN   \n",
            "max                                        NaN                 NaN   \n",
            "std                                        NaN                 NaN   \n",
            "\n",
            "        location_type_desc  cross_street       latitude      longitude  \n",
            "count               359900         48569  359900.000000  359900.000000  \n",
            "unique                 298          6316            NaN            NaN  \n",
            "top                 STREET      BROADWAY            NaN            NaN  \n",
            "freq                 99455           775            NaN            NaN  \n",
            "mean                   NaN           NaN      34.074950    -118.355375  \n",
            "min                    NaN           NaN      33.705900    -118.667600  \n",
            "25%                    NaN           NaN      34.018200    -118.431200  \n",
            "50%                    NaN           NaN      34.059500    -118.324600  \n",
            "75%                    NaN           NaN      34.166200    -118.273900  \n",
            "max                    NaN           NaN      34.329700    -118.155400  \n",
            "std                    NaN           NaN       0.110641       0.104718  \n",
            "\n",
            "[11 rows x 25 columns]\n",
            "     file_id date_reported date_occurred  time_occurred area_code  \\\n",
            "0  240114426    2024-07-11    2024-07-11            850         1   \n",
            "1  241213315    2024-07-09    2024-07-09            530        12   \n",
            "2  241704395    2024-01-09    2024-01-08           2200        17   \n",
            "3  240407878    2024-05-29    2024-05-28           2155         4   \n",
            "4  241306401    2024-02-21    2024-02-18            830        13   \n",
            "\n",
            "     area_name crime_committed_code  \\\n",
            "0      Central                  888   \n",
            "1  77th Street                  740   \n",
            "2   Devonshire                  420   \n",
            "3   Hollenbeck                  331   \n",
            "4       Newton                  510   \n",
            "\n",
            "                                     crime_committed  victim_age victim_sex  \\\n",
            "0                                        TRESPASSING           0          X   \n",
            "1  VANDALISM - FELONY ($400 & OVER, ALL CHURCH VA...          24          F   \n",
            "2    THEFT FROM MOTOR VEHICLE - PETTY ($950 & UNDER)           0          X   \n",
            "3  THEFT FROM MOTOR VEHICLE - GRAND ($950.01 AND ...          26          M   \n",
            "4                                   VEHICLE - STOLEN           0          X   \n",
            "\n",
            "   ... crime_code_1 crime_code_2 crime_code_3 crime_code_4  \\\n",
            "0  ...        888.0          NaN          NaN          NaN   \n",
            "1  ...        740.0          NaN          NaN          NaN   \n",
            "2  ...        420.0          NaN          NaN          NaN   \n",
            "3  ...        331.0          NaN          NaN          NaN   \n",
            "4  ...        510.0          NaN          NaN          NaN   \n",
            "\n",
            "                            crime_location location_type_code  \\\n",
            "0   500 S  HILL                         ST              902.0   \n",
            "1  4200 W  61ST                         ST              101.0   \n",
            "2  9200    OAKDALE                      AV              108.0   \n",
            "3  1200 S  SOTO                         ST              101.0   \n",
            "4          53RD                         ST              101.0   \n",
            "\n",
            "                 location_type_desc cross_street latitude longitude  \n",
            "0  MTA - RED LINE - PERSHING SQUARE         <NA>  34.0488 -118.2518  \n",
            "1                            STREET         <NA>  33.9844 -118.3486  \n",
            "2                       PARKING LOT         <NA>  34.2383 -118.5669  \n",
            "3                            STREET         <NA>  34.0281 -118.2194  \n",
            "4                            STREET   W  CENTRAL  33.9943 -118.2565  \n",
            "\n",
            "[5 rows x 25 columns]\n",
            "          file_id date_reported date_occurred  time_occurred area_code  \\\n",
            "359907  230220635    2023-11-08    2023-11-08           1750         2   \n",
            "359908  231600813    2023-11-04    2023-11-03           1900        16   \n",
            "359909  230917850    2023-12-23    2023-12-23           1100         9   \n",
            "359910  231515722    2023-10-05    2023-10-05            740        15   \n",
            "359911  231215135    2023-07-05    2023-07-05            145        12   \n",
            "\n",
            "          area_name crime_committed_code  \\\n",
            "359907      Rampart                  442   \n",
            "359908     Foothill                  740   \n",
            "359909     Van Nuys                  330   \n",
            "359910  N Hollywood                  624   \n",
            "359911  77th Street                  510   \n",
            "\n",
            "                                          crime_committed  victim_age  \\\n",
            "359907           SHOPLIFTING - PETTY THEFT ($950 & UNDER)           0   \n",
            "359908  VANDALISM - FELONY ($400 & OVER, ALL CHURCH VA...          47   \n",
            "359909                              BURGLARY FROM VEHICLE          73   \n",
            "359910                           BATTERY - SIMPLE ASSAULT          24   \n",
            "359911                                   VEHICLE - STOLEN           0   \n",
            "\n",
            "       victim_sex  ... crime_code_1 crime_code_2 crime_code_3 crime_code_4  \\\n",
            "359907          X  ...        442.0          NaN          NaN          NaN   \n",
            "359908          F  ...        740.0        998.0          NaN          NaN   \n",
            "359909          F  ...        330.0          NaN          NaN          NaN   \n",
            "359910          F  ...        624.0          NaN          NaN          NaN   \n",
            "359911          X  ...        510.0          NaN          NaN          NaN   \n",
            "\n",
            "                                  crime_location location_type_code  \\\n",
            "359907    600 N  DILLON                       ST              203.0   \n",
            "359908  11200    GLENOAKS                     BL              122.0   \n",
            "359909  14200    HUSTON                       ST              108.0   \n",
            "359910   5300    LANKERSHIM                   BL              101.0   \n",
            "359911   8400 S  GRAND                        AV              101.0   \n",
            "\n",
            "              location_type_desc cross_street latitude longitude  \n",
            "359907            OTHER BUSINESS         <NA>  34.0786 -118.2788  \n",
            "359908  VEHICLE, PASSENGER/TRUCK         <NA>  34.2733 -118.4202  \n",
            "359909               PARKING LOT         <NA>  34.1594 -118.4421  \n",
            "359910                    STREET         <NA>  34.1720 -118.3789  \n",
            "359911                    STREET         <NA>  33.9633 -118.2803  \n",
            "\n",
            "[5 rows x 25 columns]\n"
          ]
        }
      ]
    },
    {
      "cell_type": "code",
      "source": [
        "# Format 'time_occurred' values to 4-digit strings (HHMM)\n",
        "# for consistency with the military time format and create an hour colum\n",
        "print(crimes['time_occurred'].head(10))\n",
        "\n",
        "crimes['time_occurred'] = crimes['time_occurred'].astype(str).str.zfill(4)\n",
        "crimes['hour_occurred'] = crimes['time_occurred'].str[:2].astype('Int64')\n",
        "print(crimes[['time_occurred', 'hour_occurred']].head())"
      ],
      "metadata": {
        "id": "6pZEb6gUuXzd",
        "colab": {
          "base_uri": "https://localhost:8080/"
        },
        "outputId": "a47a8495-81ee-42c0-97d0-0b037a783e44"
      },
      "execution_count": null,
      "outputs": [
        {
          "output_type": "stream",
          "name": "stdout",
          "text": [
            "0     850\n",
            "1     530\n",
            "2    2200\n",
            "3    2155\n",
            "4     830\n",
            "5     300\n",
            "6     732\n",
            "7    1435\n",
            "8      30\n",
            "9    1045\n",
            "Name: time_occurred, dtype: int64\n",
            "  time_occurred  hour_occurred\n",
            "0          0850              8\n",
            "1          0530              5\n",
            "2          2200             22\n",
            "3          2155             21\n",
            "4          0830              8\n"
          ]
        }
      ]
    },
    {
      "cell_type": "markdown",
      "source": [
        "### Date & Time Cleaning\n",
        "- **Time formatting:** Standardized the `time_occurred` column to 4-digit military time format using `.zfill(4)` for consistency.\n",
        "- **Hour extraction:** Created a new column `hour_occ` by extracting the first two characters of `time_occurred` and converting them to integers."
      ],
      "metadata": {
        "id": "2v8opr7LuiWO"
      }
    },
    {
      "cell_type": "code",
      "source": [
        "# Create a countplot of crime by hours\n",
        "sns.set_style('darkgrid')\n",
        "sns.countplot(data=crimes,\n",
        "             x='hour_occurred',\n",
        "             order=np.arange(0,24),\n",
        "             color='C3',\n",
        "             edgecolor='black'\n",
        ")\n",
        "plt.xticks(ticks=np.arange(0,24), labels=np.arange(0,24))\n",
        "plt.title('Number of crimes by hour in LA')\n",
        "plt.xlabel('Hour of Day')\n",
        "plt.ylabel('Number of Crimes')\n",
        "plt.show()\n",
        "\n",
        "crimes_by_hour = crimes['hour_occurred'].value_counts()\n",
        "peak_hour_crime = crimes_by_hour.idxmax()\n",
        "print(f'The peak hour crime is {peak_hour_crime}:00 h')"
      ],
      "metadata": {
        "id": "ez-6aBoTu0hk",
        "colab": {
          "base_uri": "https://localhost:8080/",
          "height": 489
        },
        "outputId": "78a7acd5-237c-4fdc-86c7-a6fcf18205bd"
      },
      "execution_count": null,
      "outputs": [
        {
          "output_type": "display_data",
          "data": {
            "text/plain": [
              "<Figure size 640x480 with 1 Axes>"
            ],
            "image/png": "[encoded data removed]"
          },
          "metadata": {}
        },
        {
          "output_type": "stream",
          "name": "stdout",
          "text": [
            "The peak hour crime is 12:00 h\n"
          ]
        }
      ]
    },
    {
      "cell_type": "markdown",
      "source": [
        "### Crime Hour Analysis\n",
        "- Counted the number of crimes committed at each hour of the day (0–23).\n",
        "- Visualized the distribution of crimes by hour using **`countplot`** for better clarity with categorical time data.\n",
        "\n",
        "\n",
        "### Plot Customization\n",
        "- Adjusted x-axis ticks to show hours from 0 to 23 in chronological order.\n",
        "- Ensured tick labels were centered in a countplot."
      ],
      "metadata": {
        "id": "olCFYYrCu8_t"
      }
    },
    {
      "cell_type": "code",
      "source": [
        "# Get the most common crimes at noon\n",
        "\n",
        "crimes_at_noon = crimes.loc[crimes['hour_occurred'] == 12, 'crime_committed']\\\n",
        "                        .value_counts()\\\n",
        "                        .sort_values(ascending=False)\n",
        "\n",
        "print(crimes_at_noon.head(10))"
      ],
      "metadata": {
        "id": "lcOu8PCOv_E_",
        "colab": {
          "base_uri": "https://localhost:8080/"
        },
        "outputId": "517c110f-62cc-4d1f-a2f3-f44ae2025ee4"
      },
      "execution_count": null,
      "outputs": [
        {
          "output_type": "stream",
          "name": "stdout",
          "text": [
            "crime_committed\n",
            "THEFT OF IDENTITY                                           2571\n",
            "VEHICLE - STOLEN                                            1970\n",
            "THEFT PLAIN - PETTY ($950 & UNDER)                          1769\n",
            "BATTERY - SIMPLE ASSAULT                                    1352\n",
            "SHOPLIFTING - PETTY THEFT ($950 & UNDER)                    1343\n",
            "THEFT-GRAND ($950.01 & OVER)EXCPT,GUNS,FOWL,LIVESTK,PROD    1220\n",
            "THEFT FROM MOTOR VEHICLE - PETTY ($950 & UNDER)             1168\n",
            "BURGLARY                                                    1014\n",
            "VANDALISM - FELONY ($400 & OVER, ALL CHURCH VANDALISMS)      974\n",
            "BURGLARY FROM VEHICLE                                        889\n",
            "Name: count, dtype: Int64\n"
          ]
        }
      ]
    },
    {
      "cell_type": "code",
      "source": [
        "# Create a 'year' column to use it in a catplot\n",
        "crimes['year'] = crimes['date_occurred'].dt.year\n",
        "\n",
        "g = sns.catplot(data=crimes,\n",
        "            x='hour_occurred',\n",
        "            order=np.arange(0,24),\n",
        "            col='year',\n",
        "            kind='count',\n",
        "            color='C3'\n",
        ")\n",
        "g.set_axis_labels('Hour', 'Number of Crimes')\n",
        "g.set_titles('Year {col_name}')\n",
        "g.set(xticks=np.arange(0,24))"
      ],
      "metadata": {
        "id": "_aB_wi-uwJlr",
        "colab": {
          "base_uri": "https://localhost:8080/",
          "height": 523
        },
        "outputId": "46ef9070-9d4e-465e-afdf-8b878197f27b"
      },
      "execution_count": null,
      "outputs": [
        {
          "output_type": "execute_result",
          "data": {
            "text/plain": [
              "<seaborn.axisgrid.FacetGrid at 0x7d42cacc7e10>"
            ]
          },
          "metadata": {},
          "execution_count": 65
        },
        {
          "output_type": "display_data",
          "data": {
            "text/plain": [
              "<Figure size 1011.11x500 with 2 Axes>"
            ],
            "image/png": "[encoded data removed]"
          },
          "metadata": {}
        }
      ]
    },
    {
      "cell_type": "markdown",
      "source": [
        "### Crime Frequency by Hour – Yearly Comparison\n",
        "\n",
        "- Created a new column `year` from `date_occurred` using `.dt.year` to extract the year.\n",
        "- Used **`sns.catplot`** to display separate plots by year (`col='year'`) showing crime frequency by hour (`kind='count'`).\n",
        "- **Findings:** The hourly crime pattern is almost identical between 2023 and 2024. However, the total number of crimes in 2024 is noticeably lower than in 2023."
      ],
      "metadata": {
        "id": "5ZmVAzDnxLL8"
      }
    },
    {
      "cell_type": "code",
      "source": [
        "# Analize the percentage decrease between 2023 and 2024\n",
        "crimes_by_year = crimes['year'].value_counts().sort_index()\n",
        "print(crimes_by_year)\n",
        "\n",
        "difference = crimes_by_year[2023] - crimes_by_year[2024]\n",
        "percentage_decrease = (difference / crimes_by_year[2023]) * 100\n",
        "print(f\"The total number of crimes decreased by {difference} from 2023 to 2024.\")\n",
        "print(f'Percentage decrease: {percentage_decrease:.2f}%')\n",
        "\n",
        "sns.countplot(data=crimes,\n",
        "            x='year',\n",
        "            hue='year',\n",
        "            palette='Set1',\n",
        "            legend=False\n",
        ")\n",
        "plt.xlabel('Year')\n",
        "plt.ylabel('Number of Crimes')\n",
        "plt.title('Number of Crimes in 2023 and 2024')"
      ],
      "metadata": {
        "id": "dsjkVt_IwaoZ",
        "colab": {
          "base_uri": "https://localhost:8080/",
          "height": 593
        },
        "outputId": "78a71f40-356d-467e-ead5-88d5bde2795b"
      },
      "execution_count": null,
      "outputs": [
        {
          "output_type": "stream",
          "name": "stdout",
          "text": [
            "year\n",
            "2023    232339\n",
            "2024    127561\n",
            "Name: count, dtype: int64\n",
            "The total number of crimes decreased by 104778 from 2023 to 2024.\n",
            "Percentage decrease: 45.10%\n"
          ]
        },
        {
          "output_type": "execute_result",
          "data": {
            "text/plain": [
              "Text(0.5, 1.0, 'Number of Crimes in 2023 and 2024')"
            ]
          },
          "metadata": {},
          "execution_count": 66
        },
        {
          "output_type": "display_data",
          "data": {
            "text/plain": [
              "<Figure size 640x480 with 1 Axes>"
            ],
            "image/png": "[encoded data removed]"
          },
          "metadata": {}
        }
      ]
    },
    {
      "cell_type": "markdown",
      "source": [
        "## Yearly Crime Comparison (2023 vs 2024)\n",
        "\n",
        "- Added a **countplot** to visualize the total number of crimes per year, with each bar representing a different year.\n",
        "- The plot confirms the numerical analysis from previous steps:  \n",
        "  - The total number of crimes in 2024 is **significantly lower** compared to 2023.\n",
        "- This visual representation supports the conclusion that there has been a **notable decrease** in reported crimes year-over-year.\n"
      ],
      "metadata": {
        "id": "AF_sF1zcxTGc"
      }
    },
    {
      "cell_type": "code",
      "source": [
        "# Analize the number of crimes by victim's age\n",
        "groups = [0, 10, 20, 30, 40, 50, 60, 70, 100]\n",
        "labels = ['0-9', '10-19', '20-29', '30-39', '40-49', '50-59', '60-69', '70+']\n",
        "crimes['age_group'] = pd.cut(crimes['victim_age'],\n",
        "                            bins=groups,\n",
        "                            labels=labels,\n",
        "                            include_lowest=True,\n",
        "                            right=False\n",
        ")\n",
        "\n",
        "vict_zero_age = crimes.loc[crimes['victim_age'] == 0, 'crime_committed']\n",
        "print(vict_zero_age.value_counts())\n",
        "\n",
        "sns.catplot(data=crimes[crimes['victim_age'] != 0],\n",
        "            col='year',\n",
        "            x='age_group',\n",
        "            order=labels,\n",
        "            kind='count',\n",
        "            color='C3',\n",
        "            edgecolor='black').set_axis_labels('Victim Age Group', 'Number of Crimes')"
      ],
      "metadata": {
        "id": "bj79bpyXxXRL",
        "colab": {
          "base_uri": "https://localhost:8080/",
          "height": 750
        },
        "outputId": "9e5e554c-70ba-413c-816b-5ba65af8cef8"
      },
      "execution_count": null,
      "outputs": [
        {
          "output_type": "stream",
          "name": "stdout",
          "text": [
            "crime_committed\n",
            "VEHICLE - STOLEN                                   45825\n",
            "SHOPLIFTING - PETTY THEFT ($950 & UNDER)           14210\n",
            "THEFT FROM MOTOR VEHICLE - PETTY ($950 & UNDER)    11365\n",
            "TRESPASSING                                         6729\n",
            "BURGLARY                                            5836\n",
            "                                                   ...  \n",
            "PURSE SNATCHING - ATTEMPT                              1\n",
            "THEFT, COIN MACHINE - ATTEMPT                          1\n",
            "GRAND THEFT / INSURANCE FRAUD                          1\n",
            "PETTY THEFT - AUTO REPAIR                              1\n",
            "HUMAN TRAFFICKING - INVOLUNTARY SERVITUDE              1\n",
            "Name: count, Length: 124, dtype: Int64\n"
          ]
        },
        {
          "output_type": "execute_result",
          "data": {
            "text/plain": [
              "<seaborn.axisgrid.FacetGrid at 0x7d42c7bd6290>"
            ]
          },
          "metadata": {},
          "execution_count": 67
        },
        {
          "output_type": "display_data",
          "data": {
            "text/plain": [
              "<Figure size 1011.11x500 with 2 Axes>"
            ],
            "image/png": "[encoded data removed]"
          },
          "metadata": {}
        }
      ]
    },
    {
      "cell_type": "markdown",
      "source": [
        "###  Analysis of Crimes by Victim's Age (2023 vs 2024)\n",
        "\n",
        "- Created age groups in 10-year intervals using `pd.cut()` to categorize `victim_age`.\n",
        "- While analyzing the distribution, the age group **0–9** appeared as the largest, which was suspicious.\n",
        "- Upon review, discovered that unknown victim ages were recorded as `0`, inflating the 0–9 category.\n",
        "- To avoid misleading conclusions, we excluded `victim_age == 0` from the plot while keeping these rows in the dataset for potential future analysis.\n",
        "- After excluding `0`, the 0–9 group became the smallest category, providing a more accurate picture of age distribution."
      ],
      "metadata": {
        "id": "xKDQlCt3xoKA"
      }
    },
    {
      "cell_type": "markdown",
      "source": [
        "####  Finding: Victim Age = 0 Analysis\n",
        "\n",
        "During the age group analysis, the initial results showed that the **0–9 years** category had the highest number of victims.  \n",
        "Upon further investigation, it was discovered that many records with `victim_age = 0` correspond to crimes where it is highly unlikely that the actual victim was a newborn or infant.  \n",
        "\n",
        "**Top 3 crimes with `victim_age = 0`:**\n",
        "1. Vehicle - Stolen → 45,825 cases  \n",
        "\n",
        "2. Shoplifting - Petty Theft ($950 & Under) → 14,210 cases  \n",
        "\n",
        "3. Theft from Motor Vehicle - Petty ($950 & Under) → 11,365 cases  \n",
        "\n",
        "This strongly suggests that `victim_age = 0` is often used as a placeholder for *unknown age*.  \n",
        "For visualization purposes, these records were excluded from age group plots to avoid misleading interpretations."
      ],
      "metadata": {
        "id": "YdnU11hKz64p"
      }
    },
    {
      "cell_type": "code",
      "source": [
        "# Count the top 10 crimes committed in each year\n",
        "\n",
        "crimes_by_year = crimes.groupby(['year', 'crime_committed'])\\\n",
        "                       .size()\\\n",
        "                       .reset_index(name='count')\\\n",
        "                       .sort_values(['year', 'count'], ascending=[True, False])\n",
        "\n",
        "top10_by_year = crimes_by_year.groupby('year').head(10)\n",
        "\n",
        "print(top10_by_year)"
      ],
      "metadata": {
        "id": "A8c5d6M0zfrZ",
        "colab": {
          "base_uri": "https://localhost:8080/"
        },
        "outputId": "bc71a814-cf54-4906-8010-71cae13d3550"
      },
      "execution_count": null,
      "outputs": [
        {
          "output_type": "stream",
          "name": "stdout",
          "text": [
            "     year                                    crime_committed  count\n",
            "129  2023                                   VEHICLE - STOLEN  24471\n",
            "4    2023                           BATTERY - SIMPLE ASSAULT  18831\n",
            "19   2023                                           BURGLARY  14289\n",
            "113  2023                                  THEFT OF IDENTITY  13617\n",
            "20   2023                              BURGLARY FROM VEHICLE  13565\n",
            "126  2023  VANDALISM - FELONY ($400 & OVER, ALL CHURCH VA...  13172\n",
            "2    2023     ASSAULT WITH DEADLY WEAPON, AGGRAVATED ASSAULT  12693\n",
            "115  2023                 THEFT PLAIN - PETTY ($950 & UNDER)  11462\n",
            "71   2023                  INTIMATE PARTNER - SIMPLE ASSAULT  10877\n",
            "102  2023           SHOPLIFTING - PETTY THEFT ($950 & UNDER)  10015\n",
            "257  2024                                   VEHICLE - STOLEN  21508\n",
            "151  2024                              BURGLARY FROM VEHICLE   9525\n",
            "228  2024           SHOPLIFTING - PETTY THEFT ($950 & UNDER)   9056\n",
            "241  2024                 THEFT PLAIN - PETTY ($950 & UNDER)   8818\n",
            "254  2024  VANDALISM - FELONY ($400 & OVER, ALL CHURCH VA...   7945\n",
            "237  2024    THEFT FROM MOTOR VEHICLE - PETTY ($950 & UNDER)   7607\n",
            "239  2024                                  THEFT OF IDENTITY   6320\n",
            "246  2024  THEFT-GRAND ($950.01 & OVER)EXCPT,GUNS,FOWL,LI...   6004\n",
            "236  2024  THEFT FROM MOTOR VEHICLE - GRAND ($950.01 AND ...   5622\n",
            "252  2024                                        TRESPASSING   5577\n"
          ]
        }
      ]
    },
    {
      "cell_type": "markdown",
      "source": [
        "###  Top 10 Most Common Crimes per Year\n",
        "\n",
        "- Grouped the dataset by `year` and `crime_committed` to count the number of incidents for each crime type.\n",
        "- Sorted the results in descending order to identify the most frequent crimes.\n",
        "- Selected the top 10 crimes for each year to focus on the most relevant categories.\n",
        "- This step helps reveal patterns and shifts in criminal activity between 2023 and 2024."
      ],
      "metadata": {
        "id": "ue8kDwHV0LDG"
      }
    },
    {
      "cell_type": "code",
      "source": [
        "# Create a crosstab showing the proportion (%) of each crime type within each year\n",
        "\n",
        "crimes_by_year_cross = pd.crosstab(\n",
        "                                   index=crimes['crime_committed'],\n",
        "                                   columns=crimes['year'],\n",
        "                                   normalize='columns'\n",
        ") * 100\n",
        "\n",
        "crimes_by_year_cross_sorted = crimes_by_year_cross.sort_values(by=[2023, 2024], ascending=[False, False])\n",
        "\n",
        "crimes_by_year_cross_sorted = crimes_by_year_cross_sorted.round(2)\n",
        "print(crimes_by_year_cross_sorted)"
      ],
      "metadata": {
        "id": "1WIfBehd0f9Y",
        "colab": {
          "base_uri": "https://localhost:8080/"
        },
        "outputId": "ed1757e8-5332-4f56-c2fa-9a7878d8554b"
      },
      "execution_count": null,
      "outputs": [
        {
          "output_type": "stream",
          "name": "stdout",
          "text": [
            "year                                                 2023   2024\n",
            "crime_committed                                                 \n",
            "VEHICLE - STOLEN                                    10.53  16.86\n",
            "BATTERY - SIMPLE ASSAULT                             8.10   4.23\n",
            "BURGLARY                                             6.15   3.50\n",
            "THEFT OF IDENTITY                                    5.86   4.95\n",
            "BURGLARY FROM VEHICLE                                5.84   7.47\n",
            "...                                                   ...    ...\n",
            "FIREARMS EMERGENCY PROTECTIVE ORDER (FIREARMS EPO)   0.00   0.00\n",
            "PETTY THEFT - AUTO REPAIR                            0.00   0.00\n",
            "DRUNK ROLL - ATTEMPT                                 0.00   0.00\n",
            "THEFT, COIN MACHINE - ATTEMPT                        0.00   0.00\n",
            "TRAIN WRECKING                                       0.00   0.00\n",
            "\n",
            "[138 rows x 2 columns]\n"
          ]
        }
      ]
    },
    {
      "cell_type": "markdown",
      "source": [
        "###  Crime Proportions by Year\n",
        "\n",
        "- Created a crosstab to display the proportion (%) of each crime type within each year using `pd.crosstab()` with `normalize='columns'`.\n",
        "- Rounded the percentages to two decimal places for clarity.\n",
        "- This approach allows an easy comparison of how the relative frequency of each crime type changes between 2023 and 2024.\n",
        "- The data is presented in a long format (crime type as rows, years as columns) for better readability."
      ],
      "metadata": {
        "id": "6sXuWUV60z59"
      }
    },
    {
      "cell_type": "code",
      "source": [
        "# Count the number of crimes committed by area\n",
        "crimes_by_area = crimes['area_name'].value_counts().reset_index()\n",
        "print(crimes_by_area)\n",
        "\n",
        "# Get the number of crimes committed by area and year\n",
        "crimes_by_area_year = (\n",
        "    crimes.groupby(['year', 'area_name'])\n",
        "    .size()\n",
        "    .reset_index(name='crime_count')\n",
        "    .sort_values(['year', 'crime_count'], ascending=[True, False])\n",
        "    .reset_index(drop=True)\n",
        ")\n",
        "\n",
        "print(crimes_by_area_year)"
      ],
      "metadata": {
        "id": "cf3XI4oRJWDx",
        "colab": {
          "base_uri": "https://localhost:8080/"
        },
        "outputId": "015542c6-76df-4b99-deff-f5a2233c1ff3"
      },
      "execution_count": null,
      "outputs": [
        {
          "output_type": "stream",
          "name": "stdout",
          "text": [
            "      area_name  count\n",
            "0       Central  27177\n",
            "1       Pacific  21953\n",
            "2     Southwest  21419\n",
            "3   77th Street  20728\n",
            "4   N Hollywood  18805\n",
            "5      Wilshire  18017\n",
            "6     Hollywood  17600\n",
            "7       Olympic  17526\n",
            "8        Newton  17319\n",
            "9       Rampart  17129\n",
            "10    Southeast  16897\n",
            "11      West LA  15999\n",
            "12     Van Nuys  15699\n",
            "13   Devonshire  15655\n",
            "14  West Valley  15217\n",
            "15      Topanga  15186\n",
            "16    Northeast  14962\n",
            "17       Harbor  14442\n",
            "18      Mission  14341\n",
            "19   Hollenbeck  12723\n",
            "20     Foothill  11106\n",
            "    year    area_name  crime_count\n",
            "0   2023      Central        16966\n",
            "1   2023  77th Street        13953\n",
            "2   2023      Pacific        13792\n",
            "3   2023    Southwest        13112\n",
            "4   2023       Newton        11933\n",
            "5   2023      Olympic        11756\n",
            "6   2023     Wilshire        11713\n",
            "7   2023  N Hollywood        11557\n",
            "8   2023      Rampart        11528\n",
            "9   2023    Hollywood        11448\n",
            "10  2023    Southeast        11294\n",
            "11  2023      West LA        10587\n",
            "12  2023     Van Nuys         9941\n",
            "13  2023  West Valley         9937\n",
            "14  2023   Devonshire         9776\n",
            "15  2023    Northeast         9714\n",
            "16  2023      Topanga         9647\n",
            "17  2023       Harbor         9135\n",
            "18  2023      Mission         8981\n",
            "19  2023   Hollenbeck         8410\n",
            "20  2023     Foothill         7159\n",
            "21  2024      Central        10211\n",
            "22  2024    Southwest         8307\n",
            "23  2024      Pacific         8161\n",
            "24  2024  N Hollywood         7248\n",
            "25  2024  77th Street         6775\n",
            "26  2024     Wilshire         6304\n",
            "27  2024    Hollywood         6152\n",
            "28  2024   Devonshire         5879\n",
            "29  2024      Olympic         5770\n",
            "30  2024     Van Nuys         5758\n",
            "31  2024    Southeast         5603\n",
            "32  2024      Rampart         5601\n",
            "33  2024      Topanga         5539\n",
            "34  2024      West LA         5412\n",
            "35  2024       Newton         5386\n",
            "36  2024      Mission         5360\n",
            "37  2024       Harbor         5307\n",
            "38  2024  West Valley         5280\n",
            "39  2024    Northeast         5248\n",
            "40  2024   Hollenbeck         4313\n",
            "41  2024     Foothill         3947\n"
          ]
        }
      ]
    },
    {
      "cell_type": "markdown",
      "source": [
        "### Crimes by Area (Totals)\n",
        "- Computed total incidents per `area_name`.\n",
        "- Outcome: ranked list of areas by absolute crime volume.\n",
        "\n",
        "### Crimes by Area and Year\n",
        "- Grouped by `['year', 'area_name']`, counted with `.size()`, named as `crime_count`.\n",
        "- Sorted by `year` (asc) and `crime_count` (desc) to see the most affected areas each year.\n",
        "- Applied `.reset_index(drop=True)` to produce a clean, consecutive index after sorting.\n",
        "- Use case: check whether the **most affected areas** remain the same or shift from 2023 to 2024."
      ],
      "metadata": {
        "id": "CCD2qjf1Jh_k"
      }
    },
    {
      "cell_type": "code",
      "source": [
        "# Get the most common crime committed in each area\n",
        "area_crime_count = crimes.groupby(['area_name', 'crime_committed'])\\\n",
        "                         .size()\\\n",
        "                         .reset_index(name='count')\n",
        "\n",
        "area_crime_count['percentage'] = (\n",
        "    (\n",
        "    area_crime_count['count']\\\n",
        "    /area_crime_count.groupby('area_name')['count'].transform('sum')) * 100\n",
        ").round(2)\n",
        "\n",
        "most_common_crime_by_area = area_crime_count.loc[area_crime_count.groupby('area_name')\\\n",
        "                                            ['count'].idxmax()]\\\n",
        "                                            .reset_index(drop=True)\n",
        "\n",
        "print(most_common_crime_by_area)\n",
        "\n",
        "crimes_in_central = crimes.loc[crimes['area_name'] == 'Central',\n",
        "                               ['area_name', 'crime_committed']]\\\n",
        "                 .value_counts()\n",
        "\n",
        "print(crimes_in_central.head(10))\n",
        "\n"
      ],
      "metadata": {
        "id": "B_zlEzdSJka1",
        "colab": {
          "base_uri": "https://localhost:8080/"
        },
        "outputId": "d986f636-3c2d-4609-d77f-1be9d5e9fda8"
      },
      "execution_count": null,
      "outputs": [
        {
          "output_type": "stream",
          "name": "stdout",
          "text": [
            "      area_name                           crime_committed  count  percentage\n",
            "0   77th Street                          VEHICLE - STOLEN   3598       17.36\n",
            "1       Central                     BURGLARY FROM VEHICLE   3901       14.35\n",
            "2    Devonshire                          VEHICLE - STOLEN   1449        9.26\n",
            "3      Foothill                          VEHICLE - STOLEN   1739       15.66\n",
            "4        Harbor                          VEHICLE - STOLEN   2515       17.41\n",
            "5    Hollenbeck                          VEHICLE - STOLEN   2267       17.82\n",
            "6     Hollywood                          VEHICLE - STOLEN   1489        8.46\n",
            "7       Mission                          VEHICLE - STOLEN   2479       17.29\n",
            "8   N Hollywood                          VEHICLE - STOLEN   2082       11.07\n",
            "9        Newton                          VEHICLE - STOLEN   3280       18.94\n",
            "10    Northeast                          VEHICLE - STOLEN   1934       12.93\n",
            "11      Olympic                          VEHICLE - STOLEN   2187       12.48\n",
            "12      Pacific                          VEHICLE - STOLEN   2583       11.77\n",
            "13      Rampart                          VEHICLE - STOLEN   2179       12.72\n",
            "14    Southeast                          VEHICLE - STOLEN   2796       16.55\n",
            "15    Southwest                          VEHICLE - STOLEN   2899       13.53\n",
            "16      Topanga  SHOPLIFTING - PETTY THEFT ($950 & UNDER)   1745       11.49\n",
            "17     Van Nuys                          VEHICLE - STOLEN   1934       12.32\n",
            "18      West LA  SHOPLIFTING - PETTY THEFT ($950 & UNDER)   2090       13.06\n",
            "19  West Valley                          VEHICLE - STOLEN   1697       11.15\n",
            "20     Wilshire  SHOPLIFTING - PETTY THEFT ($950 & UNDER)   2380       13.21\n",
            "area_name  crime_committed                                   \n",
            "Central    BURGLARY FROM VEHICLE                                 3901\n",
            "           TRESPASSING                                           2725\n",
            "           VEHICLE - STOLEN                                      2417\n",
            "           BATTERY - SIMPLE ASSAULT                              2202\n",
            "           THEFT PLAIN - PETTY ($950 & UNDER)                    1732\n",
            "                                                                 ... \n",
            "           PROWLER                                                  1\n",
            "           HUMAN TRAFFICKING - INVOLUNTARY SERVITUDE                1\n",
            "           FIREARMS EMERGENCY PROTECTIVE ORDER (FIREARMS EPO)       1\n",
            "           TILL TAP - PETTY ($950 & UNDER)                          1\n",
            "           WEAPONS POSSESSION/BOMBING                               1\n",
            "Name: count, Length: 108, dtype: int64\n",
            "      area_name                           crime_committed  count  percentage\n",
            "0   77th Street                          VEHICLE - STOLEN   3598       17.36\n",
            "1       Central                     BURGLARY FROM VEHICLE   3901       14.35\n",
            "2    Devonshire                          VEHICLE - STOLEN   1449        9.26\n",
            "3      Foothill                          VEHICLE - STOLEN   1739       15.66\n",
            "4        Harbor                          VEHICLE - STOLEN   2515       17.41\n",
            "5    Hollenbeck                          VEHICLE - STOLEN   2267       17.82\n",
            "6     Hollywood                          VEHICLE - STOLEN   1489        8.46\n",
            "7       Mission                          VEHICLE - STOLEN   2479       17.29\n",
            "8   N Hollywood                          VEHICLE - STOLEN   2082       11.07\n",
            "9        Newton                          VEHICLE - STOLEN   3280       18.94\n",
            "10    Northeast                          VEHICLE - STOLEN   1934       12.93\n",
            "11      Olympic                          VEHICLE - STOLEN   2187       12.48\n",
            "12      Pacific                          VEHICLE - STOLEN   2583       11.77\n",
            "13      Rampart                          VEHICLE - STOLEN   2179       12.72\n",
            "14    Southeast                          VEHICLE - STOLEN   2796       16.55\n",
            "15    Southwest                          VEHICLE - STOLEN   2899       13.53\n",
            "16      Topanga  SHOPLIFTING - PETTY THEFT ($950 & UNDER)   1745       11.49\n",
            "17     Van Nuys                          VEHICLE - STOLEN   1934       12.32\n",
            "18      West LA  SHOPLIFTING - PETTY THEFT ($950 & UNDER)   2090       13.06\n",
            "19  West Valley                          VEHICLE - STOLEN   1697       11.15\n",
            "20     Wilshire  SHOPLIFTING - PETTY THEFT ($950 & UNDER)   2380       13.21\n",
            "area_name  crime_committed                                   \n",
            "Central    BURGLARY FROM VEHICLE                                 3901\n",
            "           TRESPASSING                                           2725\n",
            "           VEHICLE - STOLEN                                      2417\n",
            "           BATTERY - SIMPLE ASSAULT                              2202\n",
            "           THEFT PLAIN - PETTY ($950 & UNDER)                    1732\n",
            "                                                                 ... \n",
            "           PROWLER                                                  1\n",
            "           HUMAN TRAFFICKING - INVOLUNTARY SERVITUDE                1\n",
            "           FIREARMS EMERGENCY PROTECTIVE ORDER (FIREARMS EPO)       1\n",
            "           TILL TAP - PETTY ($950 & UNDER)                          1\n",
            "           WEAPONS POSSESSION/BOMBING                               1\n",
            "Name: count, Length: 108, dtype: int64\n"
          ]
        }
      ]
    },
    {
      "cell_type": "markdown",
      "source": [
        "### Most Common Crime by Area (with Percentages)\n",
        "\n",
        "- Created `area_crime_counts` DataFrame with the total number of crimes per area and crime type.\n",
        "- Calculated a `percentage` column showing the proportion of each crime type within its area.\n",
        "\n",
        "- Used groupby('area_name')['count'].idxmax() to get the index of the most frequent crime for each area.\n",
        "\n",
        "- Applied .loc[] with these indexes to retrieve only the rows with the highest count per area.\n",
        "\n",
        "Result: Table showing the most common crime in each area along with its absolute count and percentage of total crimes in that area.\n",
        "\n",
        "#### Insight: Vehicle Theft by Area\n",
        "\n",
        "- While *Vehicle Stolen* is the most common crime overall, and **Central** is the area with the highest total number of crimes, the most frequent crime in Central is actually **Burglary from Vehicle**.  \n",
        "- Interestingly, in Central, *Vehicle Stolen* ranks only third in frequency.  \n",
        "- In absolute numbers, **77th Street** leads in vehicle thefts with **3,598 cases**, representing **17.3%** of all crimes committed there.  \n",
        "- However, in relative terms, **Newton** has the highest proportion of vehicle thefts: **3,280 cases**, which account for **18.94%** of all crimes in that area.  \n",
        "- Newton ranks **9th** in total crimes, while 77th Street ranks **4th**."
      ],
      "metadata": {
        "id": "UnY9oTpB3sTb"
      }
    },
    {
      "cell_type": "code",
      "source": [
        "# Plot the number of vehicles stolen by hour\n",
        "sns.countplot(data=crimes.loc[crimes['crime_committed'] == 'VEHICLE - STOLEN', :],\n",
        "              x='hour_occurred',\n",
        "              color='C3',\n",
        "              edgecolor='black'\n",
        ")\n",
        "plt.title('Vehicle Theft by Hour')\n",
        "plt.xlabel('Hour')\n",
        "plt.ylabel(' ')"
      ],
      "metadata": {
        "colab": {
          "base_uri": "https://localhost:8080/",
          "height": 489
        },
        "id": "wu1p8pI34dVY",
        "outputId": "2032fbbb-63ac-4fce-9907-1226827157a7"
      },
      "execution_count": null,
      "outputs": [
        {
          "output_type": "execute_result",
          "data": {
            "text/plain": [
              "Text(0, 0.5, ' ')"
            ]
          },
          "metadata": {},
          "execution_count": 72
        },
        {
          "output_type": "display_data",
          "data": {
            "text/plain": [
              "<Figure size 640x480 with 1 Axes>"
            ],
            "image/png": "[encoded data removed]"
          },
          "metadata": {}
        }
      ]
    },
    {
      "cell_type": "markdown",
      "source": [
        "### Analysis of Vehicle Theft by Hour\n",
        "- A focused countplot was generated for crimes labeled as *VEHICLE - STOLEN*, grouped by the hour of occurrence.  \n",
        "- The analysis revealed a notable temporal pattern: vehicle thefts increase significantly after standard working hours, beginning around 17:00, and remain elevated until approximately 22:00.  \n",
        "- This suggests a post-work vulnerability period where vehicles are more frequently targeted, potentially linked to increased street parking or reduced daylight.\n",
        "\n",
        "**Caveat / Hypothesis:**  \n",
        "- It cannot be assumed with certainty that more vehicle thefts actually occur after work hours. The apparent increase might be explained by delayed reporting: victims may not notice their vehicle has been stolen until leaving work, leading to clustering of reports during these hours."
      ],
      "metadata": {
        "id": "bowGEVZB40Uy"
      }
    },
    {
      "cell_type": "code",
      "source": [
        "# Compare and plot the victim's sex\n",
        "\n",
        "crimes_by_gender = crimes['victim_sex']\\\n",
        "                        .value_counts()\\\n",
        "                        .reset_index(name='count')\n",
        "\n",
        "print(crimes_by_gender)\n",
        "\n",
        "palette=[\"#612c0bff\", \"#854209\", \"#c68907\"]\n",
        "sns.countplot(data=crimes,\n",
        "              x='victim_sex',\n",
        "              hue='victim_sex',\n",
        "              legend=False,\n",
        "              palette=palette\n",
        ")\n",
        "\n",
        "plt.title(\"Crimes by Victim's Sex\")\n",
        "plt.xlabel(\"Victim's Sex\")\n",
        "plt.ylabel(' ')"
      ],
      "metadata": {
        "colab": {
          "base_uri": "https://localhost:8080/",
          "height": 559
        },
        "id": "WJ9TR0195kK_",
        "outputId": "16a7efe9-9046-4e8e-c203-bb4c3b386043"
      },
      "execution_count": null,
      "outputs": [
        {
          "output_type": "stream",
          "name": "stdout",
          "text": [
            "  victim_sex   count\n",
            "0          M  134948\n",
            "1          F  119088\n",
            "2          X  105864\n"
          ]
        },
        {
          "output_type": "execute_result",
          "data": {
            "text/plain": [
              "Text(0, 0.5, ' ')"
            ]
          },
          "metadata": {},
          "execution_count": 73
        },
        {
          "output_type": "display_data",
          "data": {
            "text/plain": [
              "<Figure size 640x480 with 1 Axes>"
            ],
            "image/png": "[encoded data removed]"
          },
          "metadata": {}
        }
      ]
    },
    {
      "cell_type": "markdown",
      "source": [
        "### Victim's Sex Analysis\n",
        "\n",
        "- Men represent the majority of victims with a total of **134,948** crimes committed against them.  \n",
        "- However, this figure is not far from the **119,088** crimes committed against women.  \n",
        "- Notably, crimes where the victim's sex is unknown are also significantly numerous (**105,864**).  \n",
        "- Therefore, we cannot state with complete certainty whether men or women suffer more crimes overall.\n"
      ],
      "metadata": {
        "id": "K4QBE6mH6Dj6"
      }
    },
    {
      "cell_type": "code",
      "source": [
        "# Explore the number of crimes by victim's descent\n",
        "\n",
        "crimes_by_victims_descent = crimes['victim_descent'].value_counts()\n",
        "print(crimes_by_victims_descent)\n",
        "\n",
        "sns.countplot(data=crimes,\n",
        "              x='victim_descent',\n",
        "              color='C3',\n",
        "              edgecolor='black',\n",
        "              order=crimes_by_victims_descent.index\n",
        ")\n",
        "plt.title('Crimes by Victim Descent')\n",
        "plt.xlabel('Victim Descent')\n",
        "plt.ylabel(' ')"
      ],
      "metadata": {
        "colab": {
          "base_uri": "https://localhost:8080/",
          "height": 854
        },
        "id": "u_h4ufoD6Hqr",
        "outputId": "a944175e-0cb1-426b-fd73-094a5c1cabef"
      },
      "execution_count": null,
      "outputs": [
        {
          "output_type": "stream",
          "name": "stdout",
          "text": [
            "victim_descent\n",
            "X    108712\n",
            "H     97976\n",
            "W     67570\n",
            "B     42217\n",
            "O     26732\n",
            "A      7279\n",
            "K      2569\n",
            "C      2311\n",
            "F      2213\n",
            "J       728\n",
            "V       558\n",
            "I       417\n",
            "Z       269\n",
            "P       117\n",
            "U        97\n",
            "D        46\n",
            "L        39\n",
            "G        28\n",
            "S        22\n",
            "Name: count, dtype: int64\n"
          ]
        },
        {
          "output_type": "execute_result",
          "data": {
            "text/plain": [
              "Text(0, 0.5, ' ')"
            ]
          },
          "metadata": {},
          "execution_count": 74
        },
        {
          "output_type": "display_data",
          "data": {
            "text/plain": [
              "<Figure size 640x480 with 1 Axes>"
            ],
            "image/png": "[encoded data removed]"
          },
          "metadata": {}
        }
      ]
    },
    {
      "cell_type": "markdown",
      "source": [
        "## Victim Descent Analysis\n",
        "- **Code Interpretation:**\n",
        "- `X` → Unknown  \n",
        "- `H` → Hispanic / Latin / Mexican  \n",
        "- `W` → White  \n",
        "- `B` → Black  \n",
        "- `O` → Other  \n",
        "- (Other codes correspond to less common ethnicities)\n",
        "\n",
        "- **Insight:**\n",
        "- The most frequent victim group is **Hispanic/Latin/Mexican**, followed by White and Black.  \n",
        "- However, it is **not possible to establish a clear victimology pattern** due to two main limitations:  \n",
        "  1. The category **Unknown (`X`)** represents a very high number of cases, which reduces the reliability of comparisons.  \n",
        "  2. It would be necessary to **cross these results with population data from Los Angeles** in order to understand the actual victimization rate of each ethnic group.\n",
        "\n",
        "- **Preliminary Conclusion:**  \n",
        "Hispanic/Latin/Mexican individuals appear to be the most affected group, but this conclusion must be interpreted cautiously due to the data limitations.\n",
        "\n",
        "- A further investigation is required"
      ],
      "metadata": {
        "id": "Nk9NvmWO_b5e"
      }
    },
    {
      "cell_type": "code",
      "source": [
        "# Explore the most common crime by victim's age group\n",
        "\n",
        "crimes_by_victims_age = crimes[crimes['victim_age'] != 0]\\\n",
        "                              .groupby(['age_group', 'crime_committed'])\\\n",
        "                              .size()\\\n",
        "                              .reset_index(name='count')\n",
        "\n",
        "top_crimes_by_victims_age = (\n",
        "                            crimes_by_victims_age.loc[\n",
        "                                crimes_by_victims_age.groupby('age_group')['count'].idxmax(), :]\n",
        "                            )\n",
        "print(top_crimes_by_victims_age)"
      ],
      "metadata": {
        "colab": {
          "base_uri": "https://localhost:8080/"
        },
        "id": "8M_-LLKu_yeY",
        "outputId": "0e0d1ef3-6d2b-47da-b42c-3f783d8d1d8e"
      },
      "execution_count": null,
      "outputs": [
        {
          "output_type": "stream",
          "name": "stdout",
          "text": [
            "    age_group                          crime_committed  count\n",
            "24        0-9  CHILD ABUSE (PHYSICAL) - SIMPLE ASSAULT    371\n",
            "136     10-19                 BATTERY - SIMPLE ASSAULT   2237\n",
            "283     20-29                    BURGLARY FROM VEHICLE   6631\n",
            "415     30-39                    BURGLARY FROM VEHICLE   7194\n",
            "532     40-49                 BATTERY - SIMPLE ASSAULT   4116\n",
            "664     50-59                 BATTERY - SIMPLE ASSAULT   3490\n",
            "796     60-69                 BATTERY - SIMPLE ASSAULT   2377\n",
            "942       70+                                 BURGLARY   1522\n"
          ]
        },
        {
          "output_type": "stream",
          "name": "stderr",
          "text": [
            "/tmp/ipython-input-4041676793.py:4: FutureWarning: The default of observed=False is deprecated and will be changed to True in a future version of pandas. Pass observed=False to retain current behavior or observed=True to adopt the future default and silence this warning.\n",
            "  .groupby(['age_group', 'crime_committed'])\\\n",
            "/tmp/ipython-input-4041676793.py:10: FutureWarning: The default of observed=False is deprecated and will be changed to True in a future version of pandas. Pass observed=False to retain current behavior or observed=True to adopt the future default and silence this warning.\n",
            "  crimes_by_victims_age.groupby('age_group')['count'].idxmax(), :]\n"
          ]
        }
      ]
    },
    {
      "cell_type": "markdown",
      "source": [
        "###  Most Common Crimes by Victim's Age Group\n",
        "\n",
        "**Code Summary:**\n",
        "- Filtered the dataset to exclude records where the victim's age is `0`, since this value usually indicates that the real age of the victim is unknown.\n",
        "- Grouped the filtered dataset by:\n",
        "  - `age_group` → Age ranges previously defined with `pd.cut()`\n",
        "  - `crime_committed` → Type of crime\n",
        "- Counted the number of occurrences for each `(age_group, crime_committed)` pair.\n",
        "- Used `groupby('age_group')['count'].idxmax()` to find the **index** of the most common crime within each age group.\n",
        "- Used `.loc[]` to retrieve the rows corresponding to those indices.\n",
        "\n",
        "**Key Insight:**\n",
        "- When the victim's age is known, **Burglary** and **Battery – Simple Assault** dominate as the most common crimes.\n",
        "- **Burglary from Vehicle** is the top crime for victims aged **20–39**, while **Battery – Simple Assault** is most frequent in several older age groups.\n",
        "- **Child Abuse (Physical) – Simple Assault** is the leading crime in the **0–9** age group."
      ],
      "metadata": {
        "id": "n_hdGgOMAJge"
      }
    },
    {
      "cell_type": "code",
      "source": [
        "# Explore the most common crime committed when the victim's age is unknown (0)\n",
        "\n",
        "top_crime_victim_zero_age = crimes.loc[crimes['victim_age'] == 0, :]\\\n",
        "                                  .groupby('crime_committed')\\\n",
        "                                  .size()\\\n",
        "                                  .reset_index(name='count')\\\n",
        "                                  .sort_values(by='count', ascending=False)\n",
        "\n",
        "print(top_crime_victim_zero_age.head(5))"
      ],
      "metadata": {
        "colab": {
          "base_uri": "https://localhost:8080/"
        },
        "id": "HlgbecGVAPUJ",
        "outputId": "cb7b8347-2af2-4e2f-ea83-0c1ce06d0e10"
      },
      "execution_count": null,
      "outputs": [
        {
          "output_type": "stream",
          "name": "stdout",
          "text": [
            "                                     crime_committed  count\n",
            "118                                 VEHICLE - STOLEN  45825\n",
            "92          SHOPLIFTING - PETTY THEFT ($950 & UNDER)  14210\n",
            "100  THEFT FROM MOTOR VEHICLE - PETTY ($950 & UNDER)  11365\n",
            "113                                      TRESPASSING   6729\n",
            "17                                          BURGLARY   5836\n"
          ]
        }
      ]
    },
    {
      "cell_type": "markdown",
      "source": [
        "###  Analysis of Crimes with Victim Age = 0\n",
        "\n",
        "- We filtered the dataset to include only records where the victim's age is **0**, which in this dataset usually indicates that the real age of the victim is unknown.\n",
        "- We grouped these filtered records by the `crime_committed` column and counted the occurrences for each crime type.\n",
        "- The **top 5 crimes** when the victim’s age is recorded as `0` are:\n",
        "  1. **Vehicle - Stolen** → 45,825 cases  \n",
        "\n",
        "  2. **Shoplifting - Petty Theft ($950 & Under)** → 14,210 cases\n",
        "\n",
        "  3. **Theft from Motor Vehicle - Petty ($950 & Under)** → 11,365 cases  \n",
        "\n",
        "  4. **Trespassing** → 6,729 cases  \n",
        "  \n",
        "  5. **Burglary** → 5,836 cases  \n",
        "\n",
        "- **Key insight:** This confirms our earlier suspicion that a significant portion of *Vehicle - Stolen* cases do not have a recorded victim age, likely because the crime does not always involve direct contact with a victim (e.g., theft of an unattended vehicle)."
      ],
      "metadata": {
        "id": "ksiv59weASbb"
      }
    },
    {
      "cell_type": "code",
      "source": [
        "# Get the top 10 most common crime location type\n",
        "\n",
        "top_crime_location = crimes.value_counts('location_type_desc')\\\n",
        "                            .reset_index(name='count')\\\n",
        "                            .sort_values('count', ascending=False)\n",
        "\n",
        "print(top_crime_location.head(10))"
      ],
      "metadata": {
        "colab": {
          "base_uri": "https://localhost:8080/"
        },
        "id": "JgmX4zvrAd1N",
        "outputId": "623e5ad6-8b8c-40fe-cb86-3cce2fd039a1"
      },
      "execution_count": null,
      "outputs": [
        {
          "output_type": "stream",
          "name": "stdout",
          "text": [
            "                             location_type_desc  count\n",
            "0                                        STREET  99455\n",
            "1                        SINGLE FAMILY DWELLING  53316\n",
            "2  MULTI-UNIT DWELLING (APARTMENT, DUPLEX, ETC)  39755\n",
            "3                                   PARKING LOT  22804\n",
            "4                                OTHER BUSINESS  18186\n",
            "5                                      SIDEWALK  12582\n",
            "6                      VEHICLE, PASSENGER/TRUCK   9568\n",
            "7                              DEPARTMENT STORE   8773\n",
            "8                                GARAGE/CARPORT   5955\n",
            "9                                      DRIVEWAY   4930\n"
          ]
        }
      ]
    },
    {
      "cell_type": "markdown",
      "source": [
        "###  Top 10 Most Common Crime Locations\n",
        "\n",
        "**Code Summary:**\n",
        "- Used `.value_counts()` on `location_type_desc` to count how many crimes occurred at each location type.\n",
        "- Converted the results into a DataFrame with `.reset_index()`, naming the count column `\"count\"`.\n",
        "- Sorted the DataFrame in descending order of crime count.\n",
        "\n",
        "**Key Insight:**\n",
        "- **Street** is by far the most common crime location, with almost **double** the incidents of the second place (Single Family Dwelling).\n",
        "- However, \"Street\" is a **very broad category**, which could encompass different crime scenarios and contexts.  \n",
        "  This broad definition limits the specificity of the insight and would require further breakdown or classification for more actionable conclusions."
      ],
      "metadata": {
        "id": "hhoiLNzRAkHT"
      }
    },
    {
      "cell_type": "code",
      "source": [
        "# Export the cleaned dataset as a csv\n",
        "\n",
        "crimes.to_csv('LA crime cleaned.csv', index=False)"
      ],
      "metadata": {
        "id": "qXk8EBafYXkm"
      },
      "execution_count": null,
      "outputs": []
    },
    {
      "cell_type": "markdown",
      "source": [
        "## Completion of Python Analysis\n",
        "\n",
        "The exploratory data analysis (EDA) in Python has been successfully completed.  \n",
        "The process included univariate and bivariate exploration, grouping, percentage calculations, and the extraction of key insights.  \n",
        "\n",
        "The next stage of the project will focus on **data visualization and further analysis using Power BI**, taking advantage of its interactive capabilities to explore temporal patterns, variable relationships, and geographical distributions in greater detail."
      ],
      "metadata": {
        "id": "i9RDfahqAm98"
      }
    },
    {
      "cell_type": "markdown",
      "source": [
        "# Key Insights from Python EDA\n",
        "\n",
        "- **Temporal Patterns:**  \n",
        "  - Crime incidents peak at **midday**, a surprising finding given the common assumption that most crimes occur at night.  \n",
        "  - Vehicle thefts appear to increase after **5 PM**, but this may be influenced by **delayed reporting**—victims often discover the theft after leaving work.  \n",
        "\n",
        "- **Yearly Trends:**  \n",
        "  - From 2023 to 2024, total crimes decreased by **45.10%**.  \n",
        "  - Despite this decline in absolute numbers, **Vehicle Stolen** grew in relative importance, increasing from **10.53% in 2023** to **16.86% in 2024**.  \n",
        "  - A longer time-series analysis would be necessary to confirm whether crime is consistently decreasing across years.\n",
        "\n",
        "- **Victim Demographics:**  \n",
        "  - The age groups **30–39** and **20–29** are the most frequent victims.  \n",
        "  - When age is known, **Burglary** and **Battery – Simple Assault** dominate as the top crimes, with *Burglary from Vehicle* especially prevalent among victims aged 20–39.  \n",
        "  - No reliable gender-based victimization pattern can be inferred due to the large number of records with **unknown victim sex**.  \n",
        "  - Hispanic/Latin/Mexican descent is the most frequent victim group, but high levels of **unknown data** and lack of population benchmarks limit conclusions.\n",
        "\n",
        "- **Crime Types and Distribution:**  \n",
        "  - **Vehicle Stolen** remains the single most common crime overall in both years.  \n",
        "  - Interestingly, in **Central**, the most dangerous area of LA, the top crime is **Burglary from Vehicle**, not Vehicle Stolen.  \n",
        "  - The **77th Street** area has the highest absolute number of vehicle thefts (3,598 cases), but **Newton** has the highest proportion (18.94% of its total crimes).  \n",
        "\n",
        "- **Crime Locations:**  \n",
        "  - **Street** is by far the most common crime location, almost double that of the second category (*Single Family Dwelling*).  \n",
        "  - However, this category is overly broad and lacks actionable specificity, requiring further breakdown for better insights.\n",
        "\n",
        "---\n",
        "\n",
        "## Overall Conclusion\n",
        "The analysis highlights key crime dynamics in Los Angeles:  \n",
        "- Midday crime peaks,  \n",
        "- A sharp drop in overall incidents from 2023 to 2024,  \n",
        "- Vehicle theft as the most persistent and growing issue,  \n",
        "- Age 20–39 as the most victimized group,  \n",
        "- And \"Street\" as the dominant but vague crime setting.  \n",
        "\n",
        "While valuable insights emerge, limitations such as **unknown data categories** and the need for **population-adjusted comparisons** suggest that further research is required for more robust conclusions.\n"
      ],
      "metadata": {
        "id": "hsY0w7jAM1TM"
      }
    }
  ]
}
